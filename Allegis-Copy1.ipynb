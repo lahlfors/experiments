{
 "cells": [
  {
   "cell_type": "code",
   "execution_count": null,
   "id": "3c0df111-3613-43ef-97bd-5a104bc88fe8",
   "metadata": {},
   "outputs": [],
   "source": [
    "USER_FLAG = \"--user\""
   ]
  },
  {
   "cell_type": "code",
   "execution_count": null,
   "id": "320a5351-6d88-4d30-880e-61080669679c",
   "metadata": {},
   "outputs": [],
   "source": [
    "! pip install {USER_FLAG} --upgrade google-cloud-aiplatform"
   ]
  },
  {
   "cell_type": "code",
   "execution_count": null,
   "id": "c7c0be40-c1b0-4229-8455-e1902c2301c5",
   "metadata": {},
   "outputs": [],
   "source": [
    "! pip install {USER_FLAG} --upgrade google-cloud-storage"
   ]
  },
  {
   "cell_type": "code",
   "execution_count": 1,
   "id": "2f6f539b-2168-4df9-ab17-f360e4d0f4dd",
   "metadata": {},
   "outputs": [],
   "source": [
    "import pandas as pd\n",
    "df=pd.read_csv('gs://laah-allegis/hackathon_data.csv')"
   ]
  },
  {
   "cell_type": "code",
   "execution_count": null,
   "id": "7866b2b7-2783-4c73-86c9-2e7520a67280",
   "metadata": {},
   "outputs": [],
   "source": [
    "df.head()"
   ]
  },
  {
   "cell_type": "code",
   "execution_count": 2,
   "id": "e66f5ca1-d40c-4641-bff6-6a873cf4d2b1",
   "metadata": {},
   "outputs": [],
   "source": [
    "columns=list(df.columns.values)"
   ]
  },
  {
   "cell_type": "code",
   "execution_count": 3,
   "id": "45c45c2e-20db-47c0-9d1b-7155e41565e3",
   "metadata": {},
   "outputs": [],
   "source": [
    "new_columns = [s.replace(\" \", \"_\") for s in columns]"
   ]
  },
  {
   "cell_type": "code",
   "execution_count": null,
   "id": "02035686-c418-4f30-8c8d-a7d37546b9c1",
   "metadata": {},
   "outputs": [],
   "source": [
    "new_columns"
   ]
  },
  {
   "cell_type": "code",
   "execution_count": 4,
   "id": "5932e9a3-fe7b-4e78-9c46-d2dd7e8a1d09",
   "metadata": {},
   "outputs": [],
   "source": [
    "df2=pd.read_csv('gs://laah-allegis/hackathon_data.csv', names=new_columns, skiprows=2)"
   ]
  },
  {
   "cell_type": "code",
   "execution_count": 6,
   "id": "f9250371-f5f3-4a03-aed7-54197e903024",
   "metadata": {},
   "outputs": [],
   "source": [
    "\n",
    "#Use pd.to_datetime():\n",
    "\n",
    "df2['WEEK_ENDING_DATE'] = pd.to_datetime(df2['WEEK_ENDING_DATE'])"
   ]
  },
  {
   "cell_type": "code",
   "execution_count": 5,
   "id": "53b0af24-9f13-496e-91fc-fcffddb80514",
   "metadata": {},
   "outputs": [],
   "source": [
    "df2=df2.drop(['DMONAME'], axis=1)"
   ]
  },
  {
   "cell_type": "code",
   "execution_count": 7,
   "id": "2ecd73bc-dfc0-465c-b4b3-0359f595e3ea",
   "metadata": {},
   "outputs": [
    {
     "data": {
      "text/html": [
       "<div>\n",
       "<style scoped>\n",
       "    .dataframe tbody tr th:only-of-type {\n",
       "        vertical-align: middle;\n",
       "    }\n",
       "\n",
       "    .dataframe tbody tr th {\n",
       "        vertical-align: top;\n",
       "    }\n",
       "\n",
       "    .dataframe thead th {\n",
       "        text-align: right;\n",
       "    }\n",
       "</style>\n",
       "<table border=\"1\" class=\"dataframe\">\n",
       "  <thead>\n",
       "    <tr style=\"text-align: right;\">\n",
       "      <th></th>\n",
       "      <th>DIVISION_NAME</th>\n",
       "      <th>WEEK_ENDING_DATE</th>\n",
       "      <th>PROD_STAFF_CONTRACTOR_HC_AMT</th>\n",
       "      <th>RECRUITER_TOTAL_CONTACTS_AMT</th>\n",
       "      <th>RETAIL_CONTRACTOR_HC_AMT</th>\n",
       "      <th>RECRUIT_CONTRACTOR_HC_AMT</th>\n",
       "      <th>RECRUITER_ACCOUNT_INTERVIEWS_AMT</th>\n",
       "      <th>PRODUCER_HC</th>\n",
       "      <th>RECRUITER_EMAI_LCONTACTS_AMT</th>\n",
       "      <th>RECRUITER_SERVICE_TOUCHPOINTS</th>\n",
       "      <th>...</th>\n",
       "      <th>OFFER_ACCEPT_AMT</th>\n",
       "      <th>CLIENT_INTERVIEW_AMT</th>\n",
       "      <th>STAFF_SPREAD_AMT</th>\n",
       "      <th>RECRUITER_G2S_MODIFIED_AMT</th>\n",
       "      <th>NON_RECRUIT_CONTRACTOR_HC_AMT</th>\n",
       "      <th>DPT_CONTRACTOR_HC_AMT</th>\n",
       "      <th>SALES_COMPLETED_ACTIVITIES_AMT</th>\n",
       "      <th>RECRUITER_TOTAL_SUBMITTALS_AMT</th>\n",
       "      <th>CORP_ACCTS_AMT</th>\n",
       "      <th>RETAIL_FINISHES_AMT</th>\n",
       "    </tr>\n",
       "  </thead>\n",
       "  <tbody>\n",
       "    <tr>\n",
       "      <th>0</th>\n",
       "      <td>3</td>\n",
       "      <td>2017-01-07</td>\n",
       "      <td>185</td>\n",
       "      <td>497</td>\n",
       "      <td>163</td>\n",
       "      <td>27</td>\n",
       "      <td>4</td>\n",
       "      <td>19</td>\n",
       "      <td>2</td>\n",
       "      <td>2</td>\n",
       "      <td>...</td>\n",
       "      <td>12</td>\n",
       "      <td>12</td>\n",
       "      <td>63568.14</td>\n",
       "      <td>209</td>\n",
       "      <td>158</td>\n",
       "      <td>16</td>\n",
       "      <td>44</td>\n",
       "      <td>11</td>\n",
       "      <td>52</td>\n",
       "      <td>3</td>\n",
       "    </tr>\n",
       "    <tr>\n",
       "      <th>1</th>\n",
       "      <td>9</td>\n",
       "      <td>2017-01-07</td>\n",
       "      <td>57</td>\n",
       "      <td>0</td>\n",
       "      <td>53</td>\n",
       "      <td>0</td>\n",
       "      <td>0</td>\n",
       "      <td>0</td>\n",
       "      <td>0</td>\n",
       "      <td>0</td>\n",
       "      <td>...</td>\n",
       "      <td>0</td>\n",
       "      <td>0</td>\n",
       "      <td>7748.79</td>\n",
       "      <td>0</td>\n",
       "      <td>57</td>\n",
       "      <td>1</td>\n",
       "      <td>0</td>\n",
       "      <td>0</td>\n",
       "      <td>22</td>\n",
       "      <td>3</td>\n",
       "    </tr>\n",
       "    <tr>\n",
       "      <th>2</th>\n",
       "      <td>4</td>\n",
       "      <td>2017-01-07</td>\n",
       "      <td>33</td>\n",
       "      <td>224</td>\n",
       "      <td>33</td>\n",
       "      <td>0</td>\n",
       "      <td>2</td>\n",
       "      <td>8</td>\n",
       "      <td>2</td>\n",
       "      <td>2</td>\n",
       "      <td>...</td>\n",
       "      <td>2</td>\n",
       "      <td>1</td>\n",
       "      <td>6028.41</td>\n",
       "      <td>124</td>\n",
       "      <td>33</td>\n",
       "      <td>0</td>\n",
       "      <td>20</td>\n",
       "      <td>14</td>\n",
       "      <td>12</td>\n",
       "      <td>4</td>\n",
       "    </tr>\n",
       "    <tr>\n",
       "      <th>3</th>\n",
       "      <td>7</td>\n",
       "      <td>2017-01-07</td>\n",
       "      <td>299</td>\n",
       "      <td>569</td>\n",
       "      <td>267</td>\n",
       "      <td>0</td>\n",
       "      <td>7</td>\n",
       "      <td>16</td>\n",
       "      <td>10</td>\n",
       "      <td>22</td>\n",
       "      <td>...</td>\n",
       "      <td>15</td>\n",
       "      <td>14</td>\n",
       "      <td>58125.32</td>\n",
       "      <td>190</td>\n",
       "      <td>299</td>\n",
       "      <td>8</td>\n",
       "      <td>20</td>\n",
       "      <td>32</td>\n",
       "      <td>77</td>\n",
       "      <td>22</td>\n",
       "    </tr>\n",
       "    <tr>\n",
       "      <th>4</th>\n",
       "      <td>0</td>\n",
       "      <td>2017-01-07</td>\n",
       "      <td>30</td>\n",
       "      <td>255</td>\n",
       "      <td>30</td>\n",
       "      <td>0</td>\n",
       "      <td>1</td>\n",
       "      <td>14</td>\n",
       "      <td>2</td>\n",
       "      <td>1</td>\n",
       "      <td>...</td>\n",
       "      <td>1</td>\n",
       "      <td>2</td>\n",
       "      <td>14094.62</td>\n",
       "      <td>113</td>\n",
       "      <td>30</td>\n",
       "      <td>15</td>\n",
       "      <td>157</td>\n",
       "      <td>6</td>\n",
       "      <td>25</td>\n",
       "      <td>2</td>\n",
       "    </tr>\n",
       "  </tbody>\n",
       "</table>\n",
       "<p>5 rows × 28 columns</p>\n",
       "</div>"
      ],
      "text/plain": [
       "   DIVISION_NAME WEEK_ENDING_DATE  PROD_STAFF_CONTRACTOR_HC_AMT  \\\n",
       "0              3       2017-01-07                           185   \n",
       "1              9       2017-01-07                            57   \n",
       "2              4       2017-01-07                            33   \n",
       "3              7       2017-01-07                           299   \n",
       "4              0       2017-01-07                            30   \n",
       "\n",
       "   RECRUITER_TOTAL_CONTACTS_AMT  RETAIL_CONTRACTOR_HC_AMT  \\\n",
       "0                           497                       163   \n",
       "1                             0                        53   \n",
       "2                           224                        33   \n",
       "3                           569                       267   \n",
       "4                           255                        30   \n",
       "\n",
       "   RECRUIT_CONTRACTOR_HC_AMT  RECRUITER_ACCOUNT_INTERVIEWS_AMT  PRODUCER_HC  \\\n",
       "0                         27                                 4           19   \n",
       "1                          0                                 0            0   \n",
       "2                          0                                 2            8   \n",
       "3                          0                                 7           16   \n",
       "4                          0                                 1           14   \n",
       "\n",
       "   RECRUITER_EMAI_LCONTACTS_AMT  RECRUITER_SERVICE_TOUCHPOINTS  ...  \\\n",
       "0                             2                              2  ...   \n",
       "1                             0                              0  ...   \n",
       "2                             2                              2  ...   \n",
       "3                            10                             22  ...   \n",
       "4                             2                              1  ...   \n",
       "\n",
       "   OFFER_ACCEPT_AMT  CLIENT_INTERVIEW_AMT  STAFF_SPREAD_AMT  \\\n",
       "0                12                    12          63568.14   \n",
       "1                 0                     0           7748.79   \n",
       "2                 2                     1           6028.41   \n",
       "3                15                    14          58125.32   \n",
       "4                 1                     2          14094.62   \n",
       "\n",
       "   RECRUITER_G2S_MODIFIED_AMT  NON_RECRUIT_CONTRACTOR_HC_AMT  \\\n",
       "0                         209                            158   \n",
       "1                           0                             57   \n",
       "2                         124                             33   \n",
       "3                         190                            299   \n",
       "4                         113                             30   \n",
       "\n",
       "   DPT_CONTRACTOR_HC_AMT  SALES_COMPLETED_ACTIVITIES_AMT  \\\n",
       "0                     16                              44   \n",
       "1                      1                               0   \n",
       "2                      0                              20   \n",
       "3                      8                              20   \n",
       "4                     15                             157   \n",
       "\n",
       "   RECRUITER_TOTAL_SUBMITTALS_AMT  CORP_ACCTS_AMT  RETAIL_FINISHES_AMT  \n",
       "0                              11              52                    3  \n",
       "1                               0              22                    3  \n",
       "2                              14              12                    4  \n",
       "3                              32              77                   22  \n",
       "4                               6              25                    2  \n",
       "\n",
       "[5 rows x 28 columns]"
      ]
     },
     "execution_count": 7,
     "metadata": {},
     "output_type": "execute_result"
    }
   ],
   "source": [
    "df2.head()"
   ]
  },
  {
   "cell_type": "code",
   "execution_count": null,
   "id": "d0d9fbf3-1be7-4d7a-a4bf-92dd549f8627",
   "metadata": {},
   "outputs": [],
   "source": [
    "df2.describe()"
   ]
  },
  {
   "cell_type": "code",
   "execution_count": null,
   "id": "fcb3df7e-f1de-4472-9946-0a619139bdef",
   "metadata": {},
   "outputs": [],
   "source": [
    "df2['WEEK_ENDING_DATE']"
   ]
  },
  {
   "cell_type": "code",
   "execution_count": null,
   "id": "98786787-f3fa-4368-b774-c375877651a6",
   "metadata": {},
   "outputs": [],
   "source": [
    "df2.dtypes"
   ]
  },
  {
   "cell_type": "code",
   "execution_count": 8,
   "id": "c0e0a524-302b-4674-9b5d-1ab13a8089dd",
   "metadata": {
    "tags": []
   },
   "outputs": [],
   "source": [
    "df2.to_csv('gs://laah-allegis/new_allegis.csv', index=False)"
   ]
  },
  {
   "cell_type": "code",
   "execution_count": 9,
   "id": "ea16194f-5573-4288-9ed6-fd6e2fba5e51",
   "metadata": {},
   "outputs": [
    {
     "name": "stdout",
     "output_type": "stream",
     "text": [
      "Project ID:  laah-vertex-pipeline\n"
     ]
    }
   ],
   "source": [
    "import os\n",
    "\n",
    "PROJECT_ID = \"\"\n",
    "\n",
    "# Get your Google Cloud project ID from gcloud\n",
    "if not os.getenv(\"IS_TESTING\"):\n",
    "    shell_output=!gcloud config list --format 'value(core.project)' 2>/dev/null\n",
    "    PROJECT_ID = shell_output[0]\n",
    "    print(\"Project ID: \", PROJECT_ID)"
   ]
  },
  {
   "cell_type": "code",
   "execution_count": 10,
   "id": "62c67477-6a66-45e8-88ca-2e7e4456704d",
   "metadata": {},
   "outputs": [],
   "source": [
    "BUCKET_NAME = \"gs://laah-allegis\"  # @param {type:\"string\"}\n",
    "REGION = \"us-central1\"  # @param {type:\"string\"}"
   ]
  },
  {
   "cell_type": "code",
   "execution_count": 11,
   "id": "f71ccae7-631b-4bee-8244-0b2d4fcad08b",
   "metadata": {},
   "outputs": [],
   "source": [
    "import os\n",
    "\n",
    "from google.cloud import aiplatform\n",
    "\n",
    "aiplatform.init(project=PROJECT_ID, location=REGION)"
   ]
  },
  {
   "cell_type": "code",
   "execution_count": 12,
   "id": "265cb69b-8362-4def-8667-d3e4463646cb",
   "metadata": {},
   "outputs": [
    {
     "name": "stdout",
     "output_type": "stream",
     "text": [
      "INFO:google.cloud.aiplatform.datasets.dataset:Creating TabularDataset\n",
      "INFO:google.cloud.aiplatform.datasets.dataset:Create TabularDataset backing LRO: projects/1052547690175/locations/us-central1/datasets/3375228018388631552/operations/8146128886795599872\n",
      "INFO:google.cloud.aiplatform.datasets.dataset:TabularDataset created. Resource name: projects/1052547690175/locations/us-central1/datasets/3375228018388631552\n",
      "INFO:google.cloud.aiplatform.datasets.dataset:To use this TabularDataset in another session:\n",
      "INFO:google.cloud.aiplatform.datasets.dataset:ds = aiplatform.TabularDataset('projects/1052547690175/locations/us-central1/datasets/3375228018388631552')\n"
     ]
    },
    {
     "data": {
      "text/plain": [
       "'projects/1052547690175/locations/us-central1/datasets/3375228018388631552'"
      ]
     },
     "execution_count": 12,
     "metadata": {},
     "output_type": "execute_result"
    }
   ],
   "source": [
    "\n",
    "ds = dataset = aiplatform.TabularDataset.create(\n",
    "    display_name=\"allegis2-tabular-dataset\",\n",
    "    gcs_source='gs://laah-allegis/new_allegis.csv',\n",
    ")\n",
    "\n",
    "ds.resource_name"
   ]
  },
  {
   "cell_type": "code",
   "execution_count": 13,
   "id": "1e08cd2e-4dfe-4b62-bce1-1c179bfe0d4d",
   "metadata": {},
   "outputs": [
    {
     "name": "stdout",
     "output_type": "stream",
     "text": [
      "INFO:google.cloud.aiplatform.training_jobs:No column transformations provided, so now retrieving columns from dataset in order to set default column transformations.\n",
      "INFO:google.cloud.aiplatform.training_jobs:The column transformation of type 'auto' was set for the following columns: ['FISCAL_MONTH', 'PRODUCER_HC', 'SALES_MEETINGS_AMT', 'CORP_ACCTS_AMT', 'PROD_STAFF_CONTRACTOR_HC_AMT', 'SERVICES_CONTRACTOR_HC_AMT', 'CLIENT_INTERVIEW_AMT', 'NON_RECRUIT_CONTRACTOR_HC_AMT', 'RECRUITER_TOTAL_SUBMITTALS_AMT', 'RECRUITER_G2S_MODIFIED_AMT', 'DPT_CONTRACTOR_HC_AMT', 'CONTRACTOR_HC_AMT', 'RETAIL_FINISHES_AMT', 'DIVISION_NAME', 'STAFF_CONTRACTOR_HC_AMT', 'RETAIL_CONTRACTOR_HC_AMT', 'RECRUITER_ACCOUNT_INTERVIEWS_AMT', 'RECRUITER_SERVICE_TOUCHPOINTS', 'RECRUITER_TOTAL_CONTACTS_AMT', 'SSO_CONTRACTOR_HC_AMT', 'RECRUIT_CONTRACTOR_HC_AMT', 'RECRUITER_OFFERS_ACCEPTED_AMT', 'LARGE_CORP_ACCTS_AMT', 'RECRUITER_EMAI_LCONTACTS_AMT', 'SALES_COMPLETED_ACTIVITIES_AMT', 'WEEK_ENDING_DATE', 'OFFER_ACCEPT_AMT'].\n",
      "INFO:google.cloud.aiplatform.training_jobs:View Training:\n",
      "https://console.cloud.google.com/ai/platform/locations/us-central1/training/3562855279622094848?project=1052547690175\n",
      "INFO:google.cloud.aiplatform.training_jobs:AutoMLTabularTrainingJob projects/1052547690175/locations/us-central1/trainingPipelines/3562855279622094848 current state:\n",
      "PipelineState.PIPELINE_STATE_RUNNING\n",
      "INFO:google.cloud.aiplatform.training_jobs:AutoMLTabularTrainingJob projects/1052547690175/locations/us-central1/trainingPipelines/3562855279622094848 current state:\n",
      "PipelineState.PIPELINE_STATE_RUNNING\n",
      "INFO:google.cloud.aiplatform.training_jobs:AutoMLTabularTrainingJob projects/1052547690175/locations/us-central1/trainingPipelines/3562855279622094848 current state:\n",
      "PipelineState.PIPELINE_STATE_RUNNING\n",
      "INFO:google.cloud.aiplatform.training_jobs:AutoMLTabularTrainingJob projects/1052547690175/locations/us-central1/trainingPipelines/3562855279622094848 current state:\n",
      "PipelineState.PIPELINE_STATE_RUNNING\n",
      "INFO:google.cloud.aiplatform.training_jobs:AutoMLTabularTrainingJob projects/1052547690175/locations/us-central1/trainingPipelines/3562855279622094848 current state:\n",
      "PipelineState.PIPELINE_STATE_RUNNING\n",
      "INFO:google.cloud.aiplatform.training_jobs:AutoMLTabularTrainingJob projects/1052547690175/locations/us-central1/trainingPipelines/3562855279622094848 current state:\n",
      "PipelineState.PIPELINE_STATE_RUNNING\n",
      "INFO:google.cloud.aiplatform.training_jobs:AutoMLTabularTrainingJob projects/1052547690175/locations/us-central1/trainingPipelines/3562855279622094848 current state:\n",
      "PipelineState.PIPELINE_STATE_RUNNING\n",
      "INFO:google.cloud.aiplatform.training_jobs:AutoMLTabularTrainingJob projects/1052547690175/locations/us-central1/trainingPipelines/3562855279622094848 current state:\n",
      "PipelineState.PIPELINE_STATE_RUNNING\n",
      "INFO:google.cloud.aiplatform.training_jobs:AutoMLTabularTrainingJob projects/1052547690175/locations/us-central1/trainingPipelines/3562855279622094848 current state:\n",
      "PipelineState.PIPELINE_STATE_RUNNING\n",
      "INFO:google.cloud.aiplatform.training_jobs:AutoMLTabularTrainingJob projects/1052547690175/locations/us-central1/trainingPipelines/3562855279622094848 current state:\n",
      "PipelineState.PIPELINE_STATE_RUNNING\n",
      "INFO:google.cloud.aiplatform.training_jobs:AutoMLTabularTrainingJob projects/1052547690175/locations/us-central1/trainingPipelines/3562855279622094848 current state:\n",
      "PipelineState.PIPELINE_STATE_RUNNING\n",
      "INFO:google.cloud.aiplatform.training_jobs:AutoMLTabularTrainingJob projects/1052547690175/locations/us-central1/trainingPipelines/3562855279622094848 current state:\n",
      "PipelineState.PIPELINE_STATE_RUNNING\n",
      "INFO:google.cloud.aiplatform.training_jobs:AutoMLTabularTrainingJob projects/1052547690175/locations/us-central1/trainingPipelines/3562855279622094848 current state:\n",
      "PipelineState.PIPELINE_STATE_RUNNING\n",
      "INFO:google.cloud.aiplatform.training_jobs:AutoMLTabularTrainingJob projects/1052547690175/locations/us-central1/trainingPipelines/3562855279622094848 current state:\n",
      "PipelineState.PIPELINE_STATE_RUNNING\n",
      "INFO:google.cloud.aiplatform.training_jobs:AutoMLTabularTrainingJob projects/1052547690175/locations/us-central1/trainingPipelines/3562855279622094848 current state:\n",
      "PipelineState.PIPELINE_STATE_RUNNING\n",
      "INFO:google.cloud.aiplatform.training_jobs:AutoMLTabularTrainingJob projects/1052547690175/locations/us-central1/trainingPipelines/3562855279622094848 current state:\n",
      "PipelineState.PIPELINE_STATE_RUNNING\n",
      "INFO:google.cloud.aiplatform.training_jobs:AutoMLTabularTrainingJob projects/1052547690175/locations/us-central1/trainingPipelines/3562855279622094848 current state:\n",
      "PipelineState.PIPELINE_STATE_RUNNING\n",
      "INFO:google.cloud.aiplatform.training_jobs:AutoMLTabularTrainingJob projects/1052547690175/locations/us-central1/trainingPipelines/3562855279622094848 current state:\n",
      "PipelineState.PIPELINE_STATE_RUNNING\n",
      "INFO:google.cloud.aiplatform.training_jobs:AutoMLTabularTrainingJob projects/1052547690175/locations/us-central1/trainingPipelines/3562855279622094848 current state:\n",
      "PipelineState.PIPELINE_STATE_RUNNING\n",
      "INFO:google.cloud.aiplatform.training_jobs:AutoMLTabularTrainingJob projects/1052547690175/locations/us-central1/trainingPipelines/3562855279622094848 current state:\n",
      "PipelineState.PIPELINE_STATE_RUNNING\n",
      "INFO:google.cloud.aiplatform.training_jobs:AutoMLTabularTrainingJob projects/1052547690175/locations/us-central1/trainingPipelines/3562855279622094848 current state:\n",
      "PipelineState.PIPELINE_STATE_RUNNING\n",
      "INFO:google.cloud.aiplatform.training_jobs:AutoMLTabularTrainingJob projects/1052547690175/locations/us-central1/trainingPipelines/3562855279622094848 current state:\n",
      "PipelineState.PIPELINE_STATE_RUNNING\n",
      "INFO:google.cloud.aiplatform.training_jobs:AutoMLTabularTrainingJob projects/1052547690175/locations/us-central1/trainingPipelines/3562855279622094848 current state:\n",
      "PipelineState.PIPELINE_STATE_RUNNING\n",
      "INFO:google.cloud.aiplatform.training_jobs:AutoMLTabularTrainingJob projects/1052547690175/locations/us-central1/trainingPipelines/3562855279622094848 current state:\n",
      "PipelineState.PIPELINE_STATE_RUNNING\n",
      "INFO:google.cloud.aiplatform.training_jobs:AutoMLTabularTrainingJob projects/1052547690175/locations/us-central1/trainingPipelines/3562855279622094848 current state:\n",
      "PipelineState.PIPELINE_STATE_RUNNING\n",
      "INFO:google.cloud.aiplatform.training_jobs:AutoMLTabularTrainingJob projects/1052547690175/locations/us-central1/trainingPipelines/3562855279622094848 current state:\n",
      "PipelineState.PIPELINE_STATE_RUNNING\n",
      "INFO:google.cloud.aiplatform.training_jobs:AutoMLTabularTrainingJob projects/1052547690175/locations/us-central1/trainingPipelines/3562855279622094848 current state:\n",
      "PipelineState.PIPELINE_STATE_RUNNING\n",
      "INFO:google.cloud.aiplatform.training_jobs:AutoMLTabularTrainingJob projects/1052547690175/locations/us-central1/trainingPipelines/3562855279622094848 current state:\n",
      "PipelineState.PIPELINE_STATE_RUNNING\n",
      "INFO:google.cloud.aiplatform.training_jobs:AutoMLTabularTrainingJob projects/1052547690175/locations/us-central1/trainingPipelines/3562855279622094848 current state:\n",
      "PipelineState.PIPELINE_STATE_RUNNING\n",
      "INFO:google.cloud.aiplatform.training_jobs:AutoMLTabularTrainingJob projects/1052547690175/locations/us-central1/trainingPipelines/3562855279622094848 current state:\n",
      "PipelineState.PIPELINE_STATE_RUNNING\n",
      "INFO:google.cloud.aiplatform.training_jobs:AutoMLTabularTrainingJob projects/1052547690175/locations/us-central1/trainingPipelines/3562855279622094848 current state:\n",
      "PipelineState.PIPELINE_STATE_RUNNING\n",
      "INFO:google.cloud.aiplatform.training_jobs:AutoMLTabularTrainingJob projects/1052547690175/locations/us-central1/trainingPipelines/3562855279622094848 current state:\n",
      "PipelineState.PIPELINE_STATE_RUNNING\n",
      "INFO:google.cloud.aiplatform.training_jobs:AutoMLTabularTrainingJob projects/1052547690175/locations/us-central1/trainingPipelines/3562855279622094848 current state:\n",
      "PipelineState.PIPELINE_STATE_RUNNING\n",
      "INFO:google.cloud.aiplatform.training_jobs:AutoMLTabularTrainingJob projects/1052547690175/locations/us-central1/trainingPipelines/3562855279622094848 current state:\n",
      "PipelineState.PIPELINE_STATE_RUNNING\n",
      "INFO:google.cloud.aiplatform.training_jobs:AutoMLTabularTrainingJob projects/1052547690175/locations/us-central1/trainingPipelines/3562855279622094848 current state:\n",
      "PipelineState.PIPELINE_STATE_RUNNING\n",
      "INFO:google.cloud.aiplatform.training_jobs:AutoMLTabularTrainingJob projects/1052547690175/locations/us-central1/trainingPipelines/3562855279622094848 current state:\n",
      "PipelineState.PIPELINE_STATE_RUNNING\n",
      "INFO:google.cloud.aiplatform.training_jobs:AutoMLTabularTrainingJob projects/1052547690175/locations/us-central1/trainingPipelines/3562855279622094848 current state:\n",
      "PipelineState.PIPELINE_STATE_RUNNING\n",
      "INFO:google.cloud.aiplatform.training_jobs:AutoMLTabularTrainingJob projects/1052547690175/locations/us-central1/trainingPipelines/3562855279622094848 current state:\n",
      "PipelineState.PIPELINE_STATE_RUNNING\n",
      "INFO:google.cloud.aiplatform.training_jobs:AutoMLTabularTrainingJob run completed. Resource name: projects/1052547690175/locations/us-central1/trainingPipelines/3562855279622094848\n",
      "INFO:google.cloud.aiplatform.training_jobs:Model available at projects/1052547690175/locations/us-central1/models/6603829564143566848\n"
     ]
    }
   ],
   "source": [
    "job = aiplatform.AutoMLTabularTrainingJob(\n",
    "    display_name=\"train-allegis-automl-2\",\n",
    "    optimization_prediction_type=\"regression\",\n",
    ")\n",
    "\n",
    "# This will take around an hour to run\n",
    "model = job.run(\n",
    "    dataset=ds,\n",
    "    target_column=\"STAFF_SPREAD_AMT\",\n",
    "    training_fraction_split=0.8,\n",
    "    validation_fraction_split=0.1,\n",
    "    test_fraction_split=0.1,\n",
    "    model_display_name=\"allegis-prediction-model\",\n",
    "    disable_early_stopping=False,\n",
    "    sync=False\n",
    ")"
   ]
  },
  {
   "cell_type": "code",
   "execution_count": null,
   "id": "c32a60a8-be27-420e-af37-ddbbf7de2d5f",
   "metadata": {},
   "outputs": [],
   "source": []
  },
  {
   "cell_type": "code",
   "execution_count": null,
   "id": "f70a405f-963c-49f6-b4ed-0440f2265530",
   "metadata": {},
   "outputs": [],
   "source": []
  }
 ],
 "metadata": {
  "environment": {
   "kernel": "python3",
   "name": "managed-notebooks.m82",
   "type": "gcloud",
   "uri": "gcr.io/deeplearning-platform-release/base-cu110:latest"
  },
  "language_info": {
   "codemirror_mode": {
    "name": "ipython",
    "version": 3
   },
   "file_extension": ".py",
   "mimetype": "text/x-python",
   "name": "python",
   "nbconvert_exporter": "python",
   "pygments_lexer": "ipython3",
   "version": "3.7.10"
  }
 },
 "nbformat": 4,
 "nbformat_minor": 5
}

{
 "cells": [
  {
   "cell_type": "code",
   "execution_count": 1,
   "id": "897b9718-7749-4918-b9f1-28f08011e9e6",
   "metadata": {},
   "outputs": [],
   "source": [
    "from kfp.dsl import pipeline\n",
    "from kfp.v2 import compiler\n",
    "from kfp.v2.dsl import component\n",
    "from kfp.v2.google.client import AIPlatformClient\n",
    "\n",
    "# TODO: Change with your project id and gcs bucket name\n",
    "project_id = \"laah-play\"\n",
    "gcs_bucket = \"laah-playaip-20220822213353\"\n",
    "region = \"us-central1\"\n",
    "pipeline_name = \"ai-pipeline-credit-default-train\"\n",
    "pipeline_root_path = f\"gs://{gcs_bucket}/{pipeline_name}\"\n",
    "\n",
    "bigquery_table_id = f\"{project_id}.ml_dataset.credit_card_default\"\n",
    "target_column = \"DEFAULT\"\n",
    "model_name = \"cc_default_rf_model.joblib\""
   ]
  },
  {
   "cell_type": "code",
   "execution_count": 2,
   "id": "562dfd45-9241-47e4-87b7-1952cf70a00b",
   "metadata": {},
   "outputs": [],
   "source": [
    "@component(packages_to_install=[\"db-dtypes\", \"google-cloud-bigquery\",\"google-cloud-storage\",\"pandas\",\"pyarrow\"])\n",
    "def load_data_from_bigquery(bigquery_table_id: str, output_gcs_bucket: str) -> str:\n",
    "    from google.cloud import bigquery\n",
    "    from google.cloud import storage\n",
    "\n",
    "    project_id = \"laah-play\"\n",
    "    output_file = \"ai-pipeline-credit-default-train/artefacts/train.csv\"\n",
    "\n",
    "    bq_client = bigquery.Client(project=project_id)\n",
    "    sql = f\"\"\"SELECT LIMIT_BAL, EDUCATION, AGE, `DEFAULT` FROM `{bigquery_table_id}`;\"\"\"\n",
    "    dataframe = (bq_client.query(sql).result().to_dataframe())\n",
    "\n",
    "    gcs_client = storage.Client(project=project_id)\n",
    "    bucket = gcs_client.get_bucket(output_gcs_bucket)\n",
    "    bucket.blob(output_file).upload_from_string(dataframe.to_csv(index=False), 'text/csv')\n",
    "\n",
    "    return output_file"
   ]
  },
  {
   "cell_type": "code",
   "execution_count": 3,
   "id": "2edce434-ec3a-4bef-a0ec-4349a9fa13d6",
   "metadata": {},
   "outputs": [],
   "source": [
    "@component(packages_to_install=[\"google-cloud-storage\",\"pandas\",\"scikit-learn==0.21.3\",\"fsspec\",\"gcsfs\"])\n",
    "def train_model(gcs_bucket: str, train_file_path: str, target_column: str, n_estimators: int, model_name: str) -> str:\n",
    "    from google.cloud import storage\n",
    "    from sklearn.ensemble import RandomForestClassifier\n",
    "    from sklearn.model_selection import train_test_split\n",
    "    from sklearn import metrics\n",
    "    from sklearn.externals import joblib\n",
    "    import pandas as pd\n",
    "\n",
    "    dataframe = pd.read_csv(f'gs://{gcs_bucket}/{train_file_path}')\n",
    "    labels = dataframe[target_column]\n",
    "    features = dataframe.drop(target_column, axis = 1)\n",
    "    output_file = f\"ai-pipeline-credit-default-train/artefacts/{model_name}\"\n",
    "\n",
    "    print(\"Features :\")\n",
    "    print(features.head(5))\n",
    "\n",
    "    print(\"Labels :\")\n",
    "    print(labels.head(5))\n",
    "\n",
    "    x_train, x_test, y_train, y_test = train_test_split(features, labels, test_size=0.3)\n",
    "\n",
    "    random_forest_classifier = RandomForestClassifier(n_estimators=n_estimators)\n",
    "    random_forest_classifier.fit(x_train,y_train)\n",
    "\n",
    "    y_pred=random_forest_classifier.predict(x_test)\n",
    "    print(\"Simulate Prediction :\")\n",
    "    print(y_pred[:3])\n",
    "\n",
    "    print(\"Accuracy:\",metrics.accuracy_score(y_test, y_pred))\n",
    "\n",
    "    joblib.dump(random_forest_classifier, model_name)\n",
    "\n",
    "    bucket = storage.Client().bucket(gcs_bucket)\n",
    "    blob = bucket.blob(output_file)\n",
    "    blob.upload_from_filename(model_name)\n",
    "\n",
    "    print(f\"Model saved in : {output_file}\")"
   ]
  },
  {
   "cell_type": "code",
   "execution_count": 4,
   "id": "ffc0e65f-60a5-4036-a7f4-9b6095306c53",
   "metadata": {},
   "outputs": [
    {
     "name": "stderr",
     "output_type": "stream",
     "text": [
      "/opt/conda/lib/python3.7/site-packages/kfp/v2/compiler/compiler.py:1295: FutureWarning: APIs imported from the v1 namespace (e.g. kfp.dsl, kfp.components, etc) will not be supported by the v2 compiler since v2.0.0\n",
      "  category=FutureWarning,\n",
      "/opt/conda/lib/python3.7/site-packages/kfp/v2/google/client/client.py:173: FutureWarning: AIPlatformClient will be deprecated in v2.0.0. Please use PipelineJob https://googleapis.dev/python/aiplatform/latest/_modules/google/cloud/aiplatform/pipeline_jobs.html in Vertex SDK. Install the SDK using \"pip install google-cloud-aiplatform\"\n",
      "  category=FutureWarning,\n"
     ]
    },
    {
     "data": {
      "text/html": [
       "See the Pipeline job <a href=\"https://console.cloud.google.com/vertex-ai/locations/us-central1/pipelines/runs/ai-pipeline-credit-default-train-20220915204128?project=laah-play\" target=\"_blank\" >here</a>."
      ],
      "text/plain": [
       "<IPython.core.display.HTML object>"
      ]
     },
     "metadata": {},
     "output_type": "display_data"
    }
   ],
   "source": [
    "@pipeline(\n",
    "    name=pipeline_name,\n",
    "    description=\"An ML pipeline to train credit card default\",\n",
    "    pipeline_root=pipeline_root_path,\n",
    ")\n",
    "def pipeline():\n",
    "    load_data_from_bigquery_task = load_data_from_bigquery(bigquery_table_id, gcs_bucket)\n",
    "    train_model(gcs_bucket, load_data_from_bigquery_task.output, target_column, 100, model_name)\n",
    "\n",
    "compiler.Compiler().compile(\n",
    "    pipeline_func=pipeline, package_path=\"{pipeline_name}.json\"\n",
    ")\n",
    "\n",
    "api_client = AIPlatformClient(project_id=project_id, region=region)\n",
    "\n",
    "response = api_client.create_run_from_job_spec(\n",
    "    job_spec_path=\"{pipeline_name}.json\",\n",
    "    pipeline_root=pipeline_root_path\n",
    ")"
   ]
  },
  {
   "cell_type": "code",
   "execution_count": null,
   "id": "2dc79888-fdce-44e4-a76f-e86c2b0ca7cd",
   "metadata": {},
   "outputs": [],
   "source": []
  },
  {
   "cell_type": "code",
   "execution_count": null,
   "id": "40937e7e-2860-44f5-bdaf-96959a01cc86",
   "metadata": {},
   "outputs": [],
   "source": []
  }
 ],
 "metadata": {
  "environment": {
   "kernel": "python3",
   "name": "common-cpu.m95",
   "type": "gcloud",
   "uri": "gcr.io/deeplearning-platform-release/base-cpu:m95"
  },
  "kernelspec": {
   "display_name": "Python 3",
   "language": "python",
   "name": "python3"
  },
  "language_info": {
   "codemirror_mode": {
    "name": "ipython",
    "version": 3
   },
   "file_extension": ".py",
   "mimetype": "text/x-python",
   "name": "python",
   "nbconvert_exporter": "python",
   "pygments_lexer": "ipython3",
   "version": "3.7.12"
  }
 },
 "nbformat": 4,
 "nbformat_minor": 5
}

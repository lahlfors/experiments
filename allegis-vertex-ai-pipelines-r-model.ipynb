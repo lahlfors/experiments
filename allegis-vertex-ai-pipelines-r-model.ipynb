{
 "cells": [
  {
   "cell_type": "code",
   "execution_count": null,
   "metadata": {
    "id": "ur8xi4C7S06n"
   },
   "outputs": [],
   "source": [
    "# Copyright 2021 Google LLC\n",
    "#\n",
    "# Licensed under the Apache License, Version 2.0 (the \"License\");\n",
    "# you may not use this file except in compliance with the License.\n",
    "# You may obtain a copy of the License at\n",
    "#\n",
    "#     https://www.apache.org/licenses/LICENSE-2.0\n",
    "#\n",
    "# Unless required by applicable law or agreed to in writing, software\n",
    "# distributed under the License is distributed on an \"AS IS\" BASIS,\n",
    "# WITHOUT WARRANTIES OR CONDITIONS OF ANY KIND, either express or implied.\n",
    "# See the License for the specific language governing permissions and\n",
    "# limitations under the License."
   ]
  },
  {
   "cell_type": "markdown",
   "metadata": {
    "id": "JAPoU8Sm5E6e"
   },
   "source": [
    "<!-- <table align=\"left\">\n",
    "\n",
    "  <td>\n",
    "    <a href=\"https://colab.research.google.com/github/GoogleCloudPlatform/ai-platform-samples/blob/master/ai-platform-unified/notebooks/notebook_template.ipynb\"\">\n",
    "      <img src=\"https://cloud.google.com/ml-engine/images/colab-logo-32px.png\" alt=\"Colab logo\"> Run in Colab\n",
    "    </a>\n",
    "  </td>\n",
    "  <td>\n",
    "    <a href=\"https://github.com/GoogleCloudPlatform/ai-platform-samples/blob/master/ai-platform-unified/notebooks/notebook_template.ipynb\">\n",
    "      <img src=\"https://cloud.google.com/ml-engine/images/github-logo-32px.png\" alt=\"GitHub logo\">\n",
    "      View on GitHub\n",
    "    </a>\n",
    "  </td>\n",
    "</table> -->"
   ]
  },
  {
   "cell_type": "markdown",
   "metadata": {
    "id": "3yTsQctS8QLd"
   },
   "source": [
    "# Orchestrating a workflow to train and deploy a R model using [Vertex Pipelines](https://cloud.google.com/vertex-ai/docs/pipelines/introduction)"
   ]
  },
  {
   "cell_type": "markdown",
   "metadata": {
    "id": "tvgnzT1CKxrO"
   },
   "source": [
    "## Overview\n",
    "\n",
    "This tutorial uses R.A. Fisher's Iris dataset, a small dataset that is popular for trying out machine learning techniques. Each instance has four numerical features, which are different measurements of a flower, and a target label that marks it as one of three types of iris: Iris setosa, Iris versicolour, or Iris virginica. Flower classifier with an e2e example using [Vertex Pipelines](https://cloud.google.com/vertex-ai/docs/pipelines).\n",
    "\n",
    "This `kfp.v2` code currently does not run on OSS KFP, but will be able to soon once the 'v2 compatibility mode' feature is supported.\n"
   ]
  },
  {
   "cell_type": "markdown",
   "metadata": {
    "id": "ze4-nDLfK4pw"
   },
   "source": [
    "### Set up your local development environment\n",
    "\n",
    "**If you are using Colab or Google Cloud Notebooks**, your environment already meets\n",
    "all the requirements to run this notebook. You can skip this step."
   ]
  },
  {
   "cell_type": "markdown",
   "metadata": {
    "id": "gCuSR8GkAgzl"
   },
   "source": [
    "**Otherwise**, make sure your environment meets this notebook's requirements.\n",
    "You need the following:\n",
    "\n",
    "* The Google Cloud SDK\n",
    "* Git\n",
    "* Python 3\n",
    "* virtualenv\n",
    "* Jupyter notebook running in a virtual environment with Python 3\n",
    "\n",
    "The Google Cloud guide to [Setting up a Python development\n",
    "environment](https://cloud.google.com/python/setup) and the [Jupyter\n",
    "installation guide](https://jupyter.org/install) provide detailed instructions\n",
    "for meeting these requirements. The following steps provide a condensed set of\n",
    "instructions:\n",
    "\n",
    "1. [Install and initialize the Cloud SDK.](https://cloud.google.com/sdk/docs/)\n",
    "\n",
    "1. [Install Python 3.](https://cloud.google.com/python/setup#installing_python)\n",
    "\n",
    "1. [Install\n",
    "   virtualenv](https://cloud.google.com/python/setup#installing_and_using_virtualenv)\n",
    "   and create a virtual environment that uses Python 3. Activate the virtual environment.\n",
    "\n",
    "1. To install Jupyter, run `pip install jupyter` on the\n",
    "command-line in a terminal shell.\n",
    "\n",
    "1. To launch Jupyter, run `jupyter notebook` on the command-line in a terminal shell.\n",
    "\n",
    "1. Open this notebook in the Jupyter Notebook Dashboard."
   ]
  },
  {
   "cell_type": "markdown",
   "metadata": {
    "id": "i7EUnXsZhAGF"
   },
   "source": [
    "### Install additional packages\n",
    "\n"
   ]
  },
  {
   "cell_type": "markdown",
   "metadata": {
    "id": "FweS1-dyu-Vx"
   },
   "source": [
    "On colab, authenticate first:"
   ]
  },
  {
   "cell_type": "code",
   "execution_count": null,
   "metadata": {
    "id": "kZQA0KrfXCvU"
   },
   "outputs": [],
   "source": [
    "import sys\n",
    "if 'google.colab' in sys.modules:\n",
    "  from google.colab import auth\n",
    "  auth.authenticate_user()"
   ]
  },
  {
   "cell_type": "markdown",
   "metadata": {
    "id": "ijfOidzcdEWy"
   },
   "source": [
    "Then, install the libraries."
   ]
  },
  {
   "cell_type": "code",
   "execution_count": 1,
   "metadata": {
    "id": "IaYsrh0Tc17L"
   },
   "outputs": [],
   "source": [
    "import os\n",
    "\n",
    "# The Google Cloud Notebook product has specific requirements\n",
    "IS_GOOGLE_CLOUD_NOTEBOOK = os.path.exists(\"/opt/deeplearning/metadata/env_version\")\n",
    "\n",
    "# Google Cloud Notebook requires dependencies to be installed with '--user'\n",
    "USER_FLAG = \"\"\n",
    "if IS_GOOGLE_CLOUD_NOTEBOOK:\n",
    "    USER_FLAG = \"--user\""
   ]
  },
  {
   "cell_type": "markdown",
   "metadata": {},
   "source": [
    "We will be using [Vertex SDK for Python](https://cloud.google.com/vertex-ai/docs/start/client-libraries#python) to interact with Vertex AI services. The high-level aiplatform library is designed to simplify common data science workflows by using wrapper classes and opinionated defaults."
   ]
  },
  {
   "cell_type": "markdown",
   "metadata": {},
   "source": [
    "#### Install Vertex SDK for Python"
   ]
  },
  {
   "cell_type": "code",
   "execution_count": 3,
   "metadata": {
    "id": "aR7LNYMUCVKc"
   },
   "outputs": [
    {
     "name": "stdout",
     "output_type": "stream",
     "text": [
      "\u001b[33m  WARNING: The script tabulate is installed in '/home/jupyter/.local/bin' which is not on PATH.\n",
      "  Consider adding this directory to PATH or, if you prefer to suppress this warning, use --no-warn-script-location.\u001b[0m\n",
      "\u001b[33m  WARNING: The script strip-hints is installed in '/home/jupyter/.local/bin' which is not on PATH.\n",
      "  Consider adding this directory to PATH or, if you prefer to suppress this warning, use --no-warn-script-location.\u001b[0m\n",
      "\u001b[33m  WARNING: The script jsonschema is installed in '/home/jupyter/.local/bin' which is not on PATH.\n",
      "  Consider adding this directory to PATH or, if you prefer to suppress this warning, use --no-warn-script-location.\u001b[0m\n",
      "\u001b[33m  WARNING: The scripts dsl-compile, dsl-compile-v2 and kfp are installed in '/home/jupyter/.local/bin' which is not on PATH.\n",
      "  Consider adding this directory to PATH or, if you prefer to suppress this warning, use --no-warn-script-location.\u001b[0m\n",
      "\u001b[33m  WARNING: The script tb-gcp-uploader is installed in '/home/jupyter/.local/bin' which is not on PATH.\n",
      "  Consider adding this directory to PATH or, if you prefer to suppress this warning, use --no-warn-script-location.\u001b[0m\n"
     ]
    }
   ],
   "source": [
    "!pip -q install {USER_FLAG} --upgrade kfp\n",
    "!pip -q install {USER_FLAG} --upgrade google-cloud-pipeline-components \n",
    "!pip -q install {USER_FLAG} --upgrade google-cloud-aiplatform"
   ]
  },
  {
   "cell_type": "markdown",
   "metadata": {
    "id": "hhq5zEbGg0XX"
   },
   "source": [
    "### Restart the kernel\n",
    "\n",
    "After you install the additional packages, you need to restart the notebook kernel so it can find the packages."
   ]
  },
  {
   "cell_type": "code",
   "execution_count": 4,
   "metadata": {
    "id": "EzrelQZ22IZj"
   },
   "outputs": [],
   "source": [
    "# Automatically restart kernel after installs\n",
    "import os\n",
    "\n",
    "if not os.getenv(\"IS_TESTING\"):\n",
    "    # Automatically restart kernel after installs\n",
    "    import IPython\n",
    "\n",
    "    app = IPython.Application.instance()\n",
    "    app.kernel.do_shutdown(True)"
   ]
  },
  {
   "cell_type": "markdown",
   "metadata": {
    "id": "6GPgNN7eeX1l"
   },
   "source": [
    "Check the versions of the packages you installed.  The KFP SDK version should be >=1.6."
   ]
  },
  {
   "cell_type": "code",
   "execution_count": 1,
   "metadata": {
    "id": "NN0mULkEeb84",
    "outputId": "c84b935a-60f7-4fe2-8f0e-319173281477"
   },
   "outputs": [
    {
     "name": "stdout",
     "output_type": "stream",
     "text": [
      "kfp version: 1.8.11\n",
      "google_cloud_pipeline_components version: 0.2.2\n"
     ]
    }
   ],
   "source": [
    "!python3 -c \"import kfp; print('kfp version: {}'.format(kfp.__version__))\"\n",
    "!python3 -c \"import google_cloud_pipeline_components; print('google_cloud_pipeline_components version: {}'.format(google_cloud_pipeline_components.__version__))\""
   ]
  },
  {
   "cell_type": "markdown",
   "metadata": {
    "id": "lWEdiXsJg0XY"
   },
   "source": [
    "## Before you begin\n",
    "\n",
    "This notebook does not require a GPU runtime."
   ]
  },
  {
   "cell_type": "markdown",
   "metadata": {
    "id": "BF1j6f9HApxa"
   },
   "source": [
    "### Set up your Google Cloud project\n",
    "\n",
    "**The following steps are required, regardless of your notebook environment.**\n",
    "\n",
    "1. [Select or create a Google Cloud project](https://console.cloud.google.com/cloud-resource-manager). When you first create an account, you get a $300 free credit towards your compute/storage costs.\n",
    "\n",
    "1. [Make sure that billing is enabled for your project](https://cloud.google.com/billing/docs/how-to/modify-project).\n",
    "\n",
    "1. [Enable the Vertex AI API and Compute Engine API](https://console.cloud.google.com/flows/enableapi?apiid=aiplatform.googleapis.com,compute_component). \n",
    "Also [enable the Cloud Build API](https://console.cloud.google.com/flows/enableapi?apiid=cloudbuild.googleapis.com).\n",
    "\n",
    "1. If you are running this notebook locally, you will need to install the [Cloud SDK](https://cloud.google.com/sdk).\n",
    "\n",
    "1. Enter your project ID in the cell below. Then run the cell to make sure the\n",
    "Cloud SDK uses the right project for all the commands in this notebook.\n",
    "\n",
    "**Note**: Jupyter runs lines prefixed with `!` as shell commands, and it interpolates Python variables prefixed with `$` into these commands."
   ]
  },
  {
   "cell_type": "markdown",
   "metadata": {
    "id": "WReHDGG5g0XY"
   },
   "source": [
    "#### Set your project ID\n",
    "\n",
    "**If you don't know your project ID**, you may be able to get your project ID using `gcloud`."
   ]
  },
  {
   "cell_type": "code",
   "execution_count": 2,
   "metadata": {
    "id": "oM1iC_MfAts1",
    "outputId": "5a1aa9eb-088f-44c3-c7e2-b793dcedc796"
   },
   "outputs": [
    {
     "name": "stdout",
     "output_type": "stream",
     "text": [
      "Project ID:  laah-play\n"
     ]
    }
   ],
   "source": [
    "import os\n",
    "# Get your Google Cloud project ID from gcloud\n",
    "shell_output=!gcloud config list --format 'value(core.project)' 2>/dev/null\n",
    "\n",
    "try:\n",
    "    PROJECT_ID = shell_output[0]\n",
    "except IndexError:\n",
    "    PROJECT_ID = None\n",
    "\n",
    "# Get your Google Cloud project ID from gcloud\n",
    "if not os.getenv(\"IS_TESTING\"):\n",
    "    shell_output=!gcloud config list --format 'value(core.project)' 2>/dev/null\n",
    "    PROJECT_ID = shell_output[0]\n",
    "    print(\"Project ID: \", PROJECT_ID)"
   ]
  },
  {
   "cell_type": "markdown",
   "metadata": {
    "id": "qJYoRfYng0XZ"
   },
   "source": [
    "Otherwise, set your project ID here."
   ]
  },
  {
   "cell_type": "code",
   "execution_count": null,
   "metadata": {
    "id": "riG_qUokg0XZ"
   },
   "outputs": [],
   "source": [
    "if PROJECT_ID == \"\" or PROJECT_ID is None:\n",
    "    PROJECT_ID = \"python-docs-samples-tests\"  # @param {type:\"string\"}"
   ]
  },
  {
   "cell_type": "markdown",
   "metadata": {
    "id": "06571eb4063b"
   },
   "source": [
    "#### Timestamp\n",
    "\n",
    "If you are in a live tutorial session, you might be using a shared test account or project. To avoid name collisions between users on resources created, you create a timestamp for each instance session, and append it onto the name of resources you create in this tutorial."
   ]
  },
  {
   "cell_type": "code",
   "execution_count": 3,
   "metadata": {
    "id": "697568e92bd6"
   },
   "outputs": [
    {
     "name": "stdout",
     "output_type": "stream",
     "text": [
      "TIMESTAMP = 20220126195815\n"
     ]
    }
   ],
   "source": [
    "from datetime import datetime\n",
    "\n",
    "def get_timestamp():\n",
    "    return datetime.now().strftime(\"%Y%m%d%H%M%S\")\n",
    "\n",
    "TIMESTAMP = get_timestamp()\n",
    "print(f\"TIMESTAMP = {TIMESTAMP}\")"
   ]
  },
  {
   "cell_type": "markdown",
   "metadata": {
    "id": "dr--iN2kAylZ"
   },
   "source": [
    "### Authenticate your Google Cloud account\n",
    "\n",
    "**If you are using AI Platform Notebooks**, your environment is already\n",
    "authenticated. Skip this step."
   ]
  },
  {
   "cell_type": "markdown",
   "metadata": {
    "id": "sBCra4QMA2wR"
   },
   "source": [
    "**If you are using Colab**, run the cell below and follow the instructions\n",
    "when prompted to authenticate your account via oAuth.\n",
    "\n",
    "**Otherwise**, follow these steps:\n",
    "\n",
    "1. In the Cloud Console, go to the [**Create service account key**\n",
    "   page](https://console.cloud.google.com/apis/credentials/serviceaccountkey).\n",
    "\n",
    "2. Click **Create service account**.\n",
    "\n",
    "3. In the **Service account name** field, enter a name, and\n",
    "   click **Create**.\n",
    "\n",
    "4. In the **Grant this service account access to project** section, click the **Role** drop-down list. Type \"AI Platform\"\n",
    "into the filter box, and select\n",
    "   **AI Platform Administrator**. Type \"Storage Object Admin\" into the filter box, and select **Storage Object Admin**.\n",
    "\n",
    "5. Click *Create*. A JSON file that contains your key downloads to your\n",
    "local environment.\n",
    "\n",
    "6. Enter the path to your service account key as the\n",
    "`GOOGLE_APPLICATION_CREDENTIALS` variable in the cell below and run the cell."
   ]
  },
  {
   "cell_type": "code",
   "execution_count": null,
   "metadata": {
    "id": "PyQmSRbKA8r-"
   },
   "outputs": [],
   "source": [
    "import os\n",
    "import sys\n",
    "\n",
    "# If you are running this notebook in Colab, run this cell and follow the\n",
    "# instructions to authenticate your GCP account. This provides access to your\n",
    "# Cloud Storage bucket and lets you submit training jobs and prediction\n",
    "# requests.\n",
    "\n",
    "# If on AI Platform, then don't execute this code\n",
    "if not os.path.exists(\"/opt/deeplearning/metadata/env_version\"):\n",
    "    if \"google.colab\" in sys.modules:\n",
    "        from google.colab import auth as google_auth\n",
    "\n",
    "        google_auth.authenticate_user()\n",
    "\n",
    "    # If you are running this notebook locally, replace the string below with the\n",
    "    # path to your service account key and run this cell to authenticate your GCP\n",
    "    # account.\n",
    "    elif not os.getenv(\"IS_TESTING\"):\n",
    "        %env GOOGLE_APPLICATION_CREDENTIALS ''"
   ]
  },
  {
   "cell_type": "markdown",
   "metadata": {
    "id": "NxhCPW6e46EF"
   },
   "source": [
    "### Create a Cloud Storage bucket as necessary\n",
    "\n",
    "You will need a Cloud Storage bucket for this example.  If you don't have one that you want to use, you can make one now.\n",
    "\n",
    "\n",
    "Set the name of your Cloud Storage bucket below. It must be unique across all\n",
    "Cloud Storage buckets.\n",
    "\n",
    "You may also change the `REGION` variable, which is used for operations\n",
    "throughout the rest of this notebook. Make sure to [choose a region where AI Platform (Unified) services are\n",
    "available](https://cloud.google.com/ai-platform-unified/docs/general/locations#available_regions). You may\n",
    "not use a Multi-Regional Storage bucket for training with AI Platform.\n",
    "\n",
    "**Change the bucket name below** before running the next cell."
   ]
  },
  {
   "cell_type": "code",
   "execution_count": 4,
   "metadata": {
    "id": "kZPew6MljTcP"
   },
   "outputs": [],
   "source": [
    "BUCKET_NAME = \"gs://[your-bucket-name]\"  # @param {type:\"string\"}\n",
    "#BUCKET_NAME = \"gs://laah-pipeline-aip-20220124194618\"  # @param {type:\"string\"}\n",
    "REGION = \"us-central1\"  # @param {type:\"string\"}"
   ]
  },
  {
   "cell_type": "code",
   "execution_count": 5,
   "metadata": {
    "id": "cf221059d072"
   },
   "outputs": [],
   "source": [
    "if BUCKET_NAME == \"\" or BUCKET_NAME is None or BUCKET_NAME == \"gs://[your-bucket-name]\":\n",
    "    BUCKET_NAME = \"gs://\" + PROJECT_ID + \"-aip-\" + TIMESTAMP"
   ]
  },
  {
   "cell_type": "markdown",
   "metadata": {
    "id": "-EcIXiGsCePi"
   },
   "source": [
    "**Only if your bucket doesn't already exist**: Run the following cell to create your Cloud Storage bucket."
   ]
  },
  {
   "cell_type": "code",
   "execution_count": 6,
   "metadata": {
    "id": "NIq7R4HZCfIc"
   },
   "outputs": [
    {
     "name": "stdout",
     "output_type": "stream",
     "text": [
      "Creating gs://laah-play-aip-20220126195815/...\n"
     ]
    }
   ],
   "source": [
    "! gsutil mb -l $REGION $BUCKET_NAME"
   ]
  },
  {
   "cell_type": "markdown",
   "metadata": {
    "id": "ucvCsknMCims"
   },
   "source": [
    "Finally, validate access to your Cloud Storage bucket by examining its contents:"
   ]
  },
  {
   "cell_type": "code",
   "execution_count": 7,
   "metadata": {
    "id": "vhOb7YnwClBb"
   },
   "outputs": [],
   "source": [
    "! gsutil ls -al $BUCKET_NAME"
   ]
  },
  {
   "cell_type": "markdown",
   "metadata": {
    "id": "e3EQyqZiEMmf"
   },
   "source": [
    "### Import libraries and define constants"
   ]
  },
  {
   "cell_type": "markdown",
   "metadata": {
    "id": "lNV3Jd8BEMmj"
   },
   "source": [
    "\n",
    "\n",
    "Define some constants. See the \"Before you begin\" section of the Managed Pipelines User Guide for information on creating your API key.\n"
   ]
  },
  {
   "cell_type": "code",
   "execution_count": 8,
   "metadata": {},
   "outputs": [],
   "source": [
    "APP_NAME = \"custom-rf-classifier\""
   ]
  },
  {
   "cell_type": "code",
   "execution_count": 9,
   "metadata": {
    "id": "UwT_YZM6W5Pj",
    "outputId": "4a0a5775-ba52-48bf-a00c-e4abd80b8462"
   },
   "outputs": [
    {
     "name": "stdout",
     "output_type": "stream",
     "text": [
      "env: PATH=/opt/conda/bin:/opt/conda/condabin:/usr/local/bin:/usr/bin:/bin:/usr/local/games:/usr/games:/home/jupyter/.local/bin\n"
     ]
    },
    {
     "data": {
      "text/plain": [
       "'gs://laah-play-aip-20220126195815/pipeline_root/custom-rf-classifier'"
      ]
     },
     "execution_count": 9,
     "metadata": {},
     "output_type": "execute_result"
    }
   ],
   "source": [
    "PATH=%env PATH\n",
    "%env PATH={PATH}:/home/jupyter/.local/bin\n",
    "\n",
    "PIPELINE_ROOT = f'{BUCKET_NAME}/pipeline_root/{APP_NAME}'\n",
    "\n",
    "PIPELINE_ROOT"
   ]
  },
  {
   "cell_type": "markdown",
   "metadata": {
    "id": "wbY_UZSvEMmk"
   },
   "source": [
    "Do some imports:"
   ]
  },
  {
   "cell_type": "code",
   "execution_count": 10,
   "metadata": {
    "id": "lnz2aQ_EEMmk"
   },
   "outputs": [],
   "source": [
    "import json\n",
    "from typing import NamedTuple, List\n",
    "\n",
    "from google_cloud_pipeline_components import aiplatform as aip_components\n",
    "from google.cloud import aiplatform\n",
    "from google.cloud.aiplatform import pipeline_jobs\n",
    "\n",
    "from kfp.v2 import compiler\n",
    "from kfp.v2 import dsl\n",
    "from kfp.v2.dsl import (\n",
    "    component,\n",
    "    InputPath,\n",
    "    OutputPath,\n",
    "    Input,\n",
    "    Output,\n",
    "    Artifact,\n",
    "    Dataset,\n",
    "    Model,\n",
    "    ClassificationMetrics,\n",
    "    Metrics,\n",
    ")\n",
    "from kfp.v2.google.client import AIPlatformClient"
   ]
  },
  {
   "cell_type": "markdown",
   "metadata": {
    "id": "ZzmFXOmeXLiT"
   },
   "source": [
    "## Define the pipeline components\n",
    "\n"
   ]
  },
  {
   "cell_type": "code",
   "execution_count": 22,
   "metadata": {},
   "outputs": [
    {
     "name": "stdout",
     "output_type": "stream",
     "text": [
      "mkdir: cannot create directory ‘./pipelines’: File exists\n",
      "mkdir: cannot create directory ‘./trainer’: File exists\n"
     ]
    }
   ],
   "source": [
    "!mkdir ./pipelines\n",
    "!mkdir ./trainer\n",
    "!mkdir ./predictor"
   ]
  },
  {
   "cell_type": "markdown",
   "metadata": {},
   "source": [
    "### 1. Component to create custom training container image"
   ]
  },
  {
   "cell_type": "code",
   "execution_count": 14,
   "metadata": {},
   "outputs": [],
   "source": [
    "%%bash\n",
    "\n",
    "cat << EOF > ./trainer/Dockerfile\n",
    "\n",
    "FROM gcr.io/deeplearning-platform-release/r-cpu\n",
    "\n",
    "# install dependencies\n",
    "RUN apt-get -y update && apt-get -y upgrade && apt-get -y install gfortran\n",
    "\n",
    "# Installs R Dependencies\n",
    "RUN mkdir /root/trainer && mkdir /root/trainer/libs\n",
    "\n",
    "# Copies the trainer code\n",
    "COPY train.R /root/trainer/\n",
    "\n",
    "# Sets up the entry point to invoke the trainer.\n",
    "ENTRYPOINT [\"Rscript\", \"/root/trainer/train.R\"]\n",
    "\n",
    "EOF"
   ]
  },
  {
   "cell_type": "code",
   "execution_count": 29,
   "metadata": {},
   "outputs": [],
   "source": [
    "%%bash\n",
    "\n",
    "cat << EOF > ./trainer/train.R\n",
    "\n",
    "options(repos = \"http://cran.us.r-project.org\")\n",
    ".libPaths(\"/root/trainer/libs\")\n",
    "# Install required libraries\n",
    "install.packages(\"randomForest\", quiet=TRUE)\n",
    "\n",
    "library(randomForest)\n",
    "\n",
    "\n",
    "# Get training data\n",
    "\n",
    "system(paste0(\"gsutil cp \", \"gs://laah-play-aip-20220126195815/iris.csv\", \" ./tmp/train_data.csv\"))\n",
    "iris<- read.csv(\"./tmp/train_data.csv\")\n",
    "\n",
    "# train model\n",
    "\n",
    "model = randomForest(as.factor(Species) ~ ., data = iris)\n",
    "# save model\n",
    "#save(model, file = \"./predictor/model.RData\")\n",
    "\n",
    "# Export models to Google Cloud Storage\n",
    "\n",
    "saveRDS(model, './tmp/model.rds')\n",
    "system(paste0(\"gsutil cp ./tmp/model.rds \", \"gs://laah-play-aip-20220126195815/custom-rf-classifier/serve/predictor\", \"/model.rds\"))\n",
    "\n",
    "\n",
    "\n",
    "EOF"
   ]
  },
  {
   "cell_type": "code",
   "execution_count": 16,
   "metadata": {},
   "outputs": [
    {
     "name": "stdout",
     "output_type": "stream",
     "text": [
      "gs://laah-play-aip-20220126195815/custom-rf-classifier/train/\n"
     ]
    }
   ],
   "source": [
    "print(f\"{BUCKET_NAME}/{APP_NAME}/train/\")"
   ]
  },
  {
   "cell_type": "code",
   "execution_count": 47,
   "metadata": {},
   "outputs": [
    {
     "name": "stdout",
     "output_type": "stream",
     "text": [
      "Copying file://./trainer/Dockerfile [Content-Type=application/octet-stream]...\n",
      "Copying file://./trainer/train.R [Content-Type=application/octet-stream]...     \n",
      "/ [2 files][  954.0 B/  954.0 B]                                                \n",
      "Operation completed over 2 objects/954.0 B.                                      \n"
     ]
    }
   ],
   "source": [
    "!gsutil cp ./trainer/Dockerfile ./trainer/train.R {BUCKET_NAME}/{APP_NAME}/train/"
   ]
  },
  {
   "cell_type": "code",
   "execution_count": 18,
   "metadata": {},
   "outputs": [
    {
     "name": "stdout",
     "output_type": "stream",
     "text": [
      "gs://laah-play-aip-20220126195815/custom-rf-classifier/train/:\n",
      "gs://laah-play-aip-20220126195815/custom-rf-classifier/train/Dockerfile\n",
      "gs://laah-play-aip-20220126195815/custom-rf-classifier/train/train.R\n"
     ]
    }
   ],
   "source": [
    "!gsutil ls -r {BUCKET_NAME}/{APP_NAME}/train"
   ]
  },
  {
   "cell_type": "code",
   "execution_count": 19,
   "metadata": {},
   "outputs": [],
   "source": [
    "@component(\n",
    "    #base_image=\"gcr.io/google.com/cloudsdktool/cloud-sdk:latest\",\n",
    "    base_image=\"python:3.7\",\n",
    "    packages_to_install=[\"google-cloud-build\"],\n",
    "    output_component_file=\"./pipelines/build_custom_train_image.yaml\",\n",
    ")\n",
    "def build_custom_train_image(\n",
    "    project: str,\n",
    "    gs_train_src_path: str,\n",
    "    model_display_name: str\n",
    ") -> NamedTuple(\n",
    "    \"Outputs\",\n",
    "    [\n",
    "        (\"training_container_uri\", str), \n",
    "    ]\n",
    "):\n",
    "\n",
    "    from datetime import datetime\n",
    "    import logging\n",
    "    import os\n",
    "\n",
    "    from google.cloud.devtools import cloudbuild_v1 as cloudbuild\n",
    "\n",
    "    logging.getLogger().setLevel(logging.INFO)\n",
    "    build_client = cloudbuild.services.cloud_build.CloudBuildClient()\n",
    "\n",
    "    gs_dockerfile_path = os.path.join(gs_train_src_path, 'Dockerfile')\n",
    "    gs_train_src_path = os.path.join(gs_train_src_path, 'train.R')\n",
    "\n",
    "    build_version = datetime.now().strftime(\"%Y%m%d%H%M%S\")\n",
    "    image_name = f\"r_train_{model_display_name}\"\n",
    "    training_image_uri = f\"gcr.io/{project}/{image_name}:{build_version}\"\n",
    "    logging.info(f\"training_image_uri: {training_image_uri}\")\n",
    "\n",
    "    build = cloudbuild.Build(\n",
    "        images=[training_image_uri]\n",
    "    )\n",
    "    build.steps = [\n",
    "        {\n",
    "            \"name\": \"gcr.io/cloud-builders/gsutil\",\n",
    "            \"args\": [\"cp\", \"-r\", gs_train_src_path, \".\"]\n",
    "        },\n",
    "        {\n",
    "            \"name\": \"gcr.io/cloud-builders/gsutil\",\n",
    "            \"args\": [\"cp\", gs_dockerfile_path, \"Dockerfile\"]\n",
    "        },\n",
    "        {\n",
    "            \"name\": \"gcr.io/cloud-builders/gcloud\",\n",
    "            \"entrypoint\": \"bash\",\n",
    "            \"args\": [\"-c\", \"ls -ltr\"]\n",
    "        },\n",
    "        {\n",
    "            \"name\": 'gcr.io/cloud-builders/docker',\n",
    "            \"args\": [ 'build', '-t', training_image_uri, '.' ]\n",
    "        }\n",
    "    ]\n",
    "    operation = build_client.create_build(project_id=project, build=build, timeout=1800)\n",
    "    logging.info(\"IN PROGRESS:\")\n",
    "    logging.info(operation.metadata)\n",
    "\n",
    "    result = operation.result()\n",
    "    # Print the completed status\n",
    "    logging.info(\"RESULT:\", result.status)\n",
    "    return(training_image_uri,)"
   ]
  },
  {
   "cell_type": "markdown",
   "metadata": {},
   "source": [
    "### 2. Component to run training job on Vertex AI"
   ]
  },
  {
   "cell_type": "code",
   "execution_count": 20,
   "metadata": {},
   "outputs": [],
   "source": [
    "@component(\n",
    "    # base_image=\"gcr.io/google.com/cloudsdktool/cloud-sdk:latest\", \n",
    "    base_image=\"python:3.7\",\n",
    "    packages_to_install=[\"google-cloud-aiplatform\", \"pandas\", \"fsspec\"],\n",
    "    output_component_file=\"./pipelines/submit_custom_training_job.yaml\")\n",
    "def submit_custom_training_job( \n",
    "    project: str,\n",
    "    bucket: str,\n",
    "    training_container_image_uri: str,\n",
    "    metrics: Output[Metrics],\n",
    "    model: Output[Model],\n",
    "    eval_metric_key: str,\n",
    "    model_display_name: str\n",
    "):\n",
    "\n",
    "    from google.cloud import aiplatform\n",
    "    from datetime import datetime\n",
    "    import logging\n",
    "\n",
    "    import pandas as pd\n",
    "\n",
    "    TIMESTAMP = datetime.now().strftime(\"%Y%m%d%H%M%S\")\n",
    "\n",
    "    logging.info(f\"Model artifacts located at model.uri = {model.uri}\")\n",
    "    logging.info(f\"Model artifacts located at model.path = {model.path}\")\n",
    "\n",
    "    # initialize vertex sdk\n",
    "    aiplatform.init(\n",
    "        project=project, \n",
    "        staging_bucket=bucket\n",
    "    )\n",
    "\n",
    "    JOB_NAME = f\"{model_display_name}-r-cstm-cntr-{TIMESTAMP}\"\n",
    "\n",
    "    # configure the job with container image spec\n",
    "    job = aiplatform.CustomContainerTrainingJob(\n",
    "        display_name=JOB_NAME, \n",
    "        container_uri=training_container_image_uri)\n",
    "\n",
    "    # define worker pool specs\n",
    "    train_replica_count = 1\n",
    "    train_machine_type = \"n1-standard-4\"\n",
    "\n",
    "    # output directories\n",
    "    # base_output_dir = f\"{bucket}/{JOB_NAME}\"\n",
    "\n",
    "    # submit the custom job to Vertex training service\n",
    "    job_response = job.run(\n",
    "        replica_count=train_replica_count,\n",
    "        machine_type=train_machine_type,\n",
    "        base_output_dir=model.uri\n",
    "    )\n",
    "\n",
    "    start, end = job._gca_resource.start_time, job._gca_resource.end_time\n",
    "\n",
    "    logging.info(f\"Model artifacts located at {model.uri}/model/{model_display_name}\")\n",
    "    model.metadata[\"framework\"] = \"r\"\n",
    "\n",
    "    logging.info(f\"Model artifacts located at model.uri = {model.uri}\")\n",
    "    logging.info(f\"Model artifacts located at model.path = {model.path}\")\n",
    "    model.metadata[\"time_to_train_in_seconds\"] = (end - start).total_seconds()  "
   ]
  },
  {
   "cell_type": "markdown",
   "metadata": {},
   "source": [
    "### 3. Component to create serving container image"
   ]
  },
  {
   "cell_type": "code",
   "execution_count": 26,
   "metadata": {},
   "outputs": [],
   "source": [
    "%%bash\n",
    "\n",
    "cat << EOF > ./predictor/serving.R\n",
    "\n",
    "# serving.R\n",
    "\n",
    "library(\"randomForest\")\n",
    "\n",
    "#* Health check\n",
    "#* @get /ping\n",
    "#* @serializer unboxedJSON\n",
    "function() {\n",
    "    list(status = \"OK\")\n",
    "}\n",
    "\n",
    "#* @apiTitle flower classifier\n",
    "#* @param petal_length \n",
    "#* @param petal_width \n",
    "#* @param sepal_length\n",
    "#* @param sepal_width\n",
    "#* @post /classify\n",
    "function (req) \n",
    "{\n",
    "    instances <- as.data.frame(jsonlite::fromJSON(req\\$postBody))\n",
    "    results <- list()\n",
    "    \n",
    "    load(\"./app/model.rds\")\n",
    "    \n",
    "    for(i in 1:nrow(instances)) {       # for-loop over columns\n",
    "        petal_length <- instances[i, \"instances.petal_length\"]\n",
    "        petal_width <- instances[i, \"instances.petal_width\"]\n",
    "        sepal_length <- instances[i, \"instances.sepal_length\"]\n",
    "        sepal_width <- instances[i, \"instances.sepal_width\"]\n",
    "        test = c(sepal_length, sepal_width, petal_length, petal_width)\n",
    "        test = sapply(test, as.numeric)\n",
    "        test = data.frame(matrix(test, ncol = 4))\n",
    "        colnames(test) = colnames(iris[, 1:4])\n",
    "        results <- append(results, predict(model, test))\n",
    "    }\n",
    "    \n",
    "    list(predictions = results)\n",
    "}\n",
    "\n",
    "EOF"
   ]
  },
  {
   "cell_type": "code",
   "execution_count": 24,
   "metadata": {},
   "outputs": [],
   "source": [
    "%%bash\n",
    "\n",
    "cat << EOF > ./predictor/startServer.R\n",
    "\n",
    "library(plumber)\n",
    "pr <- plumb(\"serving.R\")\n",
    "pr\\$run(host = \"0.0.0.0\", port = 7080)\n",
    "\n",
    "EOF"
   ]
  },
  {
   "cell_type": "code",
   "execution_count": 25,
   "metadata": {},
   "outputs": [
    {
     "name": "stdout",
     "output_type": "stream",
     "text": [
      "Writing ./predictor/Dockerfile\n"
     ]
    }
   ],
   "source": [
    "%%bash -s $APP_NAME\n",
    "\n",
    "APP_NAME=$1\n",
    "\n",
    "cat << EOF > ./predictor/Dockerfile\n",
    "\n",
    "FROM rstudio/plumber\n",
    "\n",
    "# install random forest\n",
    "RUN R -e 'install.packages(c(\"randomForest\"), repos = \"https://cran.rstudio.com/\")'\n",
    "\n",
    "# Copy model and script\n",
    "RUN mkdir /app\n",
    "COPY model.rds /app\n",
    "COPY serving.R /app\n",
    "COPY startServer.R /app\n",
    "WORKDIR /app\n",
    "\n",
    "# plumber & run server\n",
    "EXPOSE 7080\n",
    "\n",
    "ENTRYPOINT [\"R\", \"-f\", \"/app/startServer.R\"]\n",
    "\n",
    "EOF\n",
    "\n",
    "echo \"Writing ./predictor/Dockerfile\""
   ]
  },
  {
   "cell_type": "code",
   "execution_count": 27,
   "metadata": {},
   "outputs": [
    {
     "name": "stdout",
     "output_type": "stream",
     "text": [
      "Copying file://./predictor/Dockerfile [Content-Type=application/octet-stream]...\n",
      "Copying file://./predictor/startServer.R [Content-Type=application/octet-stream]...\n",
      "Copying file://./predictor/serving.R [Content-Type=application/octet-stream]... \n",
      "/ [3 files][  1.4 KiB/  1.4 KiB]                                                \n",
      "Operation completed over 3 objects/1.4 KiB.                                      \n"
     ]
    }
   ],
   "source": [
    "!gsutil cp -r ./predictor/ {BUCKET_NAME}/{APP_NAME}/serve/"
   ]
  },
  {
   "cell_type": "code",
   "execution_count": 28,
   "metadata": {},
   "outputs": [
    {
     "name": "stdout",
     "output_type": "stream",
     "text": [
      "gs://laah-play-aip-20220126195815/custom-rf-classifier/serve/:\n",
      "\n",
      "gs://laah-play-aip-20220126195815/custom-rf-classifier/serve/predictor/:\n",
      "       331  2022-01-26T20:03:35Z  gs://laah-play-aip-20220126195815/custom-rf-classifier/serve/predictor/Dockerfile\n",
      "      1044  2022-01-26T20:03:35Z  gs://laah-play-aip-20220126195815/custom-rf-classifier/serve/predictor/serving.R\n",
      "        82  2022-01-26T20:03:35Z  gs://laah-play-aip-20220126195815/custom-rf-classifier/serve/predictor/startServer.R\n",
      "TOTAL: 3 objects, 1457 bytes (1.42 KiB)\n"
     ]
    }
   ],
   "source": [
    "!gsutil ls -lR {BUCKET_NAME}/{APP_NAME}/serve/"
   ]
  },
  {
   "cell_type": "code",
   "execution_count": 31,
   "metadata": {},
   "outputs": [],
   "source": [
    "@component(\n",
    "    #base_image=\"gcr.io/google.com/cloudsdktool/cloud-sdk:latest\",\n",
    "    base_image=\"python:3.7\",\n",
    "    packages_to_install=[\"google-cloud-build\"],\n",
    "    output_component_file=\"./pipelines/build_custom_serving_image.yaml\",\n",
    ")\n",
    "def build_custom_serving_image(\n",
    "    project: str,\n",
    "    gs_model_artifacts: Input[Model],\n",
    "    gs_serving_dependencies_path: str,\n",
    "    model_display_name: str\n",
    ")-> NamedTuple(\n",
    "    \"Outputs\",\n",
    "    [\n",
    "        (\"serving_container_uri\", str)\n",
    "    ],\n",
    "):\n",
    "\n",
    "    from datetime import datetime\n",
    "    from collections import namedtuple\n",
    "    import logging\n",
    "    import os\n",
    "\n",
    "    from google.cloud.devtools import cloudbuild_v1 as cloudbuild\n",
    "\n",
    "    logging.getLogger().setLevel(logging.INFO)\n",
    "    build_client = cloudbuild.services.cloud_build.CloudBuildClient()\n",
    "\n",
    "    logging.info(f\"gs_serving_dependencies_path: {gs_serving_dependencies_path}\")\n",
    "    logging.info(f\"gs_model_artifacts.uri: {gs_model_artifacts.uri}\")\n",
    "    logging.info(f\"gs_model_artifacts.path: {gs_model_artifacts.path}\")\n",
    "\n",
    "    gs_dockerfile_path = os.path.join(gs_serving_dependencies_path, 'predictor/Dockerfile')\n",
    "    gs_predictor_src_path = os.path.join(gs_serving_dependencies_path)\n",
    "\n",
    "    build_version = datetime.now().strftime(\"%Y%m%d%H%M%S\")\n",
    "    image_name = f\"r_predict_{model_display_name}\"\n",
    "    serving_image_uri = f\"gcr.io/{project}/{image_name}:{build_version}\"\n",
    "    logging.info(f\"serving_image_uri: {serving_image_uri}\")\n",
    "\n",
    "    build = cloudbuild.Build(\n",
    "        images=[serving_image_uri]\n",
    "    )\n",
    "    build.steps = [\n",
    "#         {\n",
    "#             \"name\": \"gcr.io/cloud-builders/gcloud\",\n",
    "#             \"entrypoint\": \"bash\",\n",
    "#             \"args\": [\"-c\", \"mkdir model\"]\n",
    "#         },\n",
    "#         {\n",
    "#             \"name\": \"gcr.io/cloud-builders/gsutil\",\n",
    "#             \"args\": [\"cp\", f\"{gs_model_artifacts.uri}/model/model.RData\", \"model.RData\"]\n",
    "#         },\n",
    "        {\n",
    "            \"name\": \"gcr.io/cloud-builders/gsutil\",\n",
    "            \"args\": [\"cp\", \"-r\", f\"{gs_serving_dependencies_path}\", \".\"]\n",
    "        },\n",
    "        {\n",
    "            \"name\": \"gcr.io/cloud-builders/gcloud\",\n",
    "            \"entrypoint\": \"bash\",\n",
    "            \"args\": [\"-c\", \"ls -ltrR\"]\n",
    "        },\n",
    "        {\n",
    "          \"name\": 'gcr.io/cloud-builders/docker',\n",
    "          \"args\": [ 'build', '-t', serving_image_uri, './predictor' ]\n",
    "        }\n",
    "    ]\n",
    "    operation = build_client.create_build(project_id=project, build=build, timeout=1800)\n",
    "    logging.info(\"IN PROGRESS:\")\n",
    "    logging.info(operation.metadata)\n",
    "\n",
    "    result = operation.result()\n",
    "    # Print the completed status\n",
    "    logging.info(\"RESULT:\", result.status)\n",
    "\n",
    "    outputs = namedtuple(\"Outputs\", [\"serving_container_uri\"])\n",
    "\n",
    "    return outputs(serving_image_uri)"
   ]
  },
  {
   "cell_type": "markdown",
   "metadata": {},
   "source": [
    "### 4. Component to test model deployment making online prediction requests"
   ]
  },
  {
   "cell_type": "code",
   "execution_count": 32,
   "metadata": {},
   "outputs": [],
   "source": [
    "@component(\n",
    "    #base_image=\"gcr.io/google.com/cloudsdktool/cloud-sdk:latest\",\n",
    "    base_image=\"python:3.7\",\n",
    "    packages_to_install=[\"google-cloud-build\", \"google-cloud-aiplatform\"],\n",
    "    output_component_file=\"./pipelines/make_prediction_request.yaml\")\n",
    "def make_prediction_request( \n",
    "    project: str,\n",
    "    bucket: str,\n",
    "    endpoint: str,\n",
    "    instances: List\n",
    "    ):\n",
    "    from datetime import datetime\n",
    "    import logging\n",
    "    import base64\n",
    "    import ast\n",
    "\n",
    "    from google.cloud import aiplatform\n",
    "\n",
    "    logging.getLogger().setLevel(logging.INFO)\n",
    "    aiplatform.init(project=project, staging_bucket=bucket)\n",
    "    logging.info(f\"Endpoint: {endpoint}\")\n",
    "    endpoint = ast.literal_eval(endpoint)\n",
    "    endpoint_uri = endpoint[\"resources\"][0][\"resourceUri\"]\n",
    "    logging.info(f\"Endpoint URI: {endpoint_uri}\")\n",
    "    endpoint_name = \"/\".join(endpoint_uri.split(\"/\")[4:-2])\n",
    "    logging.info(f\"Endpoint Name: {endpoint_name}\")\n",
    "    _endpoint = aiplatform.Endpoint(endpoint_name)\n",
    "\n",
    "    response = _endpoint.predict(instances)\n",
    "    logging.info(f\"Prediction response: {response}\")"
   ]
  },
  {
   "cell_type": "code",
   "execution_count": 50,
   "metadata": {},
   "outputs": [
    {
     "name": "stdout",
     "output_type": "stream",
     "text": [
      "projects/307074083428/locations/us-central1/endpoints/8246873769994354688\n"
     ]
    }
   ],
   "source": [
    "ENDPOINT_ID=\"8134283779310092288\"\n",
    "PROJECT_ID=\"307074083428\"\n",
    "INPUT_DATA_FILE=\"INPUT-JSON\""
   ]
  },
  {
   "cell_type": "code",
   "execution_count": null,
   "metadata": {},
   "outputs": [],
   "source": [
    "from google.cloud import aiplatform\n",
    "\n",
    "endpoint_name= \"projects/307074083428/locations/us-central1/endpoints/5134283779310092288\"\n",
    "\n",
    "aiplatform.init(project=PROJECT_ID, location=REGION)\n",
    "endpoint = aiplatform.Endpoint(endpoint_name)\n",
    "\n",
    "print(endpoint._gca_resource.name)\n",
    "\n",
    "instances = [\n",
    "    {\"sepal_width\": 1, \"sepal_length\": 2, \"petal_width\": 3, \"petal_length\": 1},\n",
    "    {\"sepal_width\": 4, \"sepal_length\": 2, \"petal_width\": 1, \"petal_length\": 1}\n",
    "]\n",
    "response = endpoint.predict(instances)"
   ]
  },
  {
   "cell_type": "markdown",
   "metadata": {},
   "source": [
    "## Define Pipeline"
   ]
  },
  {
   "cell_type": "code",
   "execution_count": 33,
   "metadata": {},
   "outputs": [],
   "source": [
    "@dsl.pipeline(\n",
    "    name=\"r-flower-classifier-pipeline\",\n",
    "    pipeline_root=PIPELINE_ROOT,\n",
    ")\n",
    "def r_flower_classifier_pipeline(\n",
    "    project: str,\n",
    "    bucket: str,\n",
    "    region: str,\n",
    "    gs_train_script_path: str,\n",
    "    gs_serving_dependencies_path: str,\n",
    "    model_display_name: str,\n",
    "    serving_container_health_route: str,\n",
    "    serving_container_predict_route: str,\n",
    "    serving_container_ports: list,\n",
    "    eval_acc_threshold: float,\n",
    "    pipeline_job_id: str,\n",
    "    pipeline_name: str\n",
    "):\n",
    "    # build custom container for training job passing the \n",
    "    # GCS location of the training application code \n",
    "    build_custom_train_image_task = build_custom_train_image(\n",
    "        project=project,\n",
    "        gs_train_src_path=gs_train_script_path,\n",
    "        model_display_name=model_display_name\n",
    "    ).set_caching_options(True).set_display_name(\"Build custom training image\")\n",
    "\n",
    "    # train the model on Vertex AI by submitting a CustomJob \n",
    "    # using the custom container\n",
    "    training_container_image_uri = build_custom_train_image_task.outputs[\"training_container_uri\"]\n",
    "    run_train_task = submit_custom_training_job(\n",
    "        project=project,\n",
    "        bucket=bucket,\n",
    "        training_container_image_uri=training_container_image_uri,\n",
    "        eval_metric_key=\"eval_accuracy\",\n",
    "        model_display_name=model_display_name\n",
    "    ).set_caching_options(True).set_display_name(\"Run custom training job\")\n",
    "\n",
    "    # build custom container for serving predictions using \n",
    "    # the trained model artifacts served by TorchServe\n",
    "    build_custom_serving_image_task = build_custom_serving_image(\n",
    "        project=project,\n",
    "        gs_model_artifacts=run_train_task.outputs[\"model\"],\n",
    "        gs_serving_dependencies_path=gs_serving_dependencies_path,\n",
    "        model_display_name=model_display_name\n",
    "    ).set_caching_options(True).set_display_name(\"Build custom serving image\")\n",
    "\n",
    "    # upload model to vertex ai\n",
    "    # NOTE: model artifacts and the prediction handler are part of the container\n",
    "    serving_container_image_uri = build_custom_serving_image_task.outputs['serving_container_uri']\n",
    "    model_upload_task = aip_components.ModelUploadOp(\n",
    "        project=project, \n",
    "        display_name=model_display_name,\n",
    "        serving_container_image_uri=serving_container_image_uri,\n",
    "        serving_container_predict_route=serving_container_predict_route,\n",
    "        serving_container_health_route=serving_container_health_route,\n",
    "        serving_container_ports=serving_container_ports\n",
    "    ).set_caching_options(True).set_display_name(\"Upload model\")\n",
    "\n",
    "    # create endpoint to deploy one or more models\n",
    "    # An endpoint provides a service URL where the prediction requests are sent\n",
    "    endpoint_create_task = aip_components.EndpointCreateOp(\n",
    "        project=project,\n",
    "        display_name=model_display_name,\n",
    "    ).set_caching_options(True).set_display_name(\"Create endpoint\")\n",
    "\n",
    "    # deploy models to endpoint to associates physical resources with the model \n",
    "    # so it can serve online predictions \n",
    "    model_deploy_task = aip_components.ModelDeployOp(\n",
    "        endpoint=endpoint_create_task.outputs[\"endpoint\"],\n",
    "        model=model_upload_task.outputs[\"model\"],\n",
    "        deployed_model_display_name=model_display_name,\n",
    "        dedicated_resources_machine_type=\"n1-standard-4\",\n",
    "        dedicated_resources_min_replica_count=1,\n",
    "        dedicated_resources_max_replica_count=1,\n",
    "        traffic_split='{ \"0\": 100 }'\n",
    "    ).set_caching_options(True).set_display_name(\"Deploy model to endpoint\")\n",
    "\n",
    "    # test model deployment by making online prediction requests\n",
    "#     test_instances = [\n",
    "#         {\"sepal_width\": 1, \"sepal_length\": 2, \"petal_width\": 3, \"petal_length\": 1},\n",
    "#         {\"sepal_width\": 4, \"sepal_length\": 2, \"petal_width\": 1, \"petal_length\": 1}\n",
    "#     ]\n",
    "#     predict_test_instances_task = make_prediction_request(\n",
    "#         project,\n",
    "#         bucket,\n",
    "#         model_deploy_task.outputs[\"gcp_resources\"],\n",
    "#         test_instances\n",
    "#     ).set_caching_options(True).set_display_name(\"Test model deployment making online predictions\")\n"
   ]
  },
  {
   "cell_type": "code",
   "execution_count": 34,
   "metadata": {
    "id": "xREwNd4b2Oif"
   },
   "outputs": [
    {
     "name": "stderr",
     "output_type": "stream",
     "text": [
      "/home/jupyter/.local/lib/python3.7/site-packages/kfp/v2/compiler/compiler.py:1266: FutureWarning: APIs imported from the v1 namespace (e.g. kfp.dsl, kfp.components, etc) will not be supported by the v2 compiler since v2.0.0\n",
      "  category=FutureWarning,\n"
     ]
    }
   ],
   "source": [
    "PIPELINE_JSON_SPEC_PATH = './pipelines/r_flower_classifier_pipeline_spec.json'\n",
    "compiler.Compiler().compile(\n",
    "    pipeline_func=r_flower_classifier_pipeline,\n",
    "    package_path=PIPELINE_JSON_SPEC_PATH)"
   ]
  },
  {
   "cell_type": "code",
   "execution_count": 35,
   "metadata": {
    "id": "r9jd9MW_2gyx"
   },
   "outputs": [],
   "source": [
    "aiplatform.init(project=PROJECT_ID, location=REGION)"
   ]
  },
  {
   "cell_type": "code",
   "execution_count": 51,
   "metadata": {},
   "outputs": [],
   "source": [
    "PIPELINE_NAME = f\"r-flower-classifier-pipeline\"\n",
    "PIPELINE_JOB_ID = f\"pipeline-{APP_NAME}-{get_timestamp()}\"\n",
    "TRAIN_APP_CODE_PATH = f\"{BUCKET_NAME}/{APP_NAME}/train/\"\n",
    "SERVE_DEPENDENCIES_PATH = f\"{BUCKET_NAME}/{APP_NAME}/serve/predictor\"\n",
    "pipeline_params = {\n",
    "    \"gs_train_script_path\": TRAIN_APP_CODE_PATH,\n",
    "    \"gs_serving_dependencies_path\": SERVE_DEPENDENCIES_PATH,\n",
    "    \"project\": PROJECT_ID,\n",
    "    \"bucket\": BUCKET_NAME,\n",
    "    \"region\": REGION,\n",
    "    \"model_display_name\": APP_NAME,\n",
    "    \"serving_container_health_route\": \"/ping\",\n",
    "    \"serving_container_predict_route\": f\"/predictions/{APP_NAME}\",\n",
    "    \"serving_container_ports\": [{\"containerPort\" : 7080}],\n",
    "    \"eval_acc_threshold\": 0.88,\n",
    "    \"pipeline_name\": PIPELINE_NAME,\n",
    "    \"pipeline_job_id\": PIPELINE_JOB_ID\n",
    "}"
   ]
  },
  {
   "cell_type": "code",
   "execution_count": 52,
   "metadata": {},
   "outputs": [],
   "source": [
    "pipeline_job = pipeline_jobs.PipelineJob(\n",
    "    display_name=PIPELINE_NAME,\n",
    "    job_id=PIPELINE_JOB_ID,\n",
    "    template_path=PIPELINE_JSON_SPEC_PATH,\n",
    "    pipeline_root=PIPELINE_ROOT,\n",
    "    parameter_values=pipeline_params,\n",
    "    enable_caching=True\n",
    ")"
   ]
  },
  {
   "cell_type": "code",
   "execution_count": 53,
   "metadata": {},
   "outputs": [
    {
     "name": "stdout",
     "output_type": "stream",
     "text": [
      "INFO:google.cloud.aiplatform.pipeline_jobs:Creating PipelineJob\n",
      "INFO:google.cloud.aiplatform.pipeline_jobs:PipelineJob created. Resource name: projects/959641146622/locations/us-central1/pipelineJobs/pipeline-custom-rf-classifier-20220126235442\n",
      "INFO:google.cloud.aiplatform.pipeline_jobs:To use this PipelineJob in another session:\n",
      "INFO:google.cloud.aiplatform.pipeline_jobs:pipeline_job = aiplatform.PipelineJob.get('projects/959641146622/locations/us-central1/pipelineJobs/pipeline-custom-rf-classifier-20220126235442')\n",
      "INFO:google.cloud.aiplatform.pipeline_jobs:View Pipeline Job:\n",
      "https://console.cloud.google.com/vertex-ai/locations/us-central1/pipelines/runs/pipeline-custom-rf-classifier-20220126235442?project=959641146622\n",
      "INFO:google.cloud.aiplatform.pipeline_jobs:PipelineJob projects/959641146622/locations/us-central1/pipelineJobs/pipeline-custom-rf-classifier-20220126235442 current state:\n",
      "PipelineState.PIPELINE_STATE_RUNNING\n",
      "INFO:google.cloud.aiplatform.pipeline_jobs:PipelineJob projects/959641146622/locations/us-central1/pipelineJobs/pipeline-custom-rf-classifier-20220126235442 current state:\n",
      "PipelineState.PIPELINE_STATE_RUNNING\n",
      "INFO:google.cloud.aiplatform.pipeline_jobs:PipelineJob projects/959641146622/locations/us-central1/pipelineJobs/pipeline-custom-rf-classifier-20220126235442 current state:\n",
      "PipelineState.PIPELINE_STATE_RUNNING\n",
      "INFO:google.cloud.aiplatform.pipeline_jobs:PipelineJob projects/959641146622/locations/us-central1/pipelineJobs/pipeline-custom-rf-classifier-20220126235442 current state:\n",
      "PipelineState.PIPELINE_STATE_RUNNING\n",
      "INFO:google.cloud.aiplatform.pipeline_jobs:PipelineJob projects/959641146622/locations/us-central1/pipelineJobs/pipeline-custom-rf-classifier-20220126235442 current state:\n",
      "PipelineState.PIPELINE_STATE_RUNNING\n"
     ]
    }
   ],
   "source": [
    "response = pipeline_job.run(sync=False)\n",
    "response"
   ]
  },
  {
   "cell_type": "code",
   "execution_count": 48,
   "metadata": {},
   "outputs": [
    {
     "data": {
      "text/html": [
       "<div>\n",
       "<style scoped>\n",
       "    .dataframe tbody tr th:only-of-type {\n",
       "        vertical-align: middle;\n",
       "    }\n",
       "\n",
       "    .dataframe tbody tr th {\n",
       "        vertical-align: top;\n",
       "    }\n",
       "\n",
       "    .dataframe thead th {\n",
       "        text-align: right;\n",
       "    }\n",
       "</style>\n",
       "<table border=\"1\" class=\"dataframe\">\n",
       "  <thead>\n",
       "    <tr style=\"text-align: right;\">\n",
       "      <th></th>\n",
       "      <th>pipeline_name</th>\n",
       "      <th>run_name</th>\n",
       "      <th>param.input:region</th>\n",
       "      <th>param.input:bucket</th>\n",
       "      <th>param.input:gs_serving_dependencies_path</th>\n",
       "      <th>param.input:serving_container_ports</th>\n",
       "      <th>param.input:pipeline_job_id</th>\n",
       "      <th>param.input:serving_container_predict_route</th>\n",
       "      <th>param.input:model_display_name</th>\n",
       "      <th>param.input:gs_train_script_path</th>\n",
       "      <th>param.input:project</th>\n",
       "      <th>param.input:serving_container_health_route</th>\n",
       "      <th>param.input:pipeline_name</th>\n",
       "      <th>param.input:eval_acc_threshold</th>\n",
       "    </tr>\n",
       "  </thead>\n",
       "  <tbody>\n",
       "    <tr>\n",
       "      <th>0</th>\n",
       "      <td>r-flower-classifier-pipeline</td>\n",
       "      <td>pipeline-custom-rf-classifier-20220126164728</td>\n",
       "      <td>us-central1</td>\n",
       "      <td>gs://laah-pipeline-aip-20220126144741</td>\n",
       "      <td>gs://laah-pipeline-aip-20220126144741/custom-r...</td>\n",
       "      <td>[{\"containerPort\": 7080}]</td>\n",
       "      <td>pipeline-custom-rf-classifier-20220126164728</td>\n",
       "      <td>/predictions/custom-rf-classifier</td>\n",
       "      <td>custom-rf-classifier</td>\n",
       "      <td>gs://laah-pipeline-aip-20220126144741/custom-r...</td>\n",
       "      <td>laah-pipeline</td>\n",
       "      <td>/ping</td>\n",
       "      <td>r-flower-classifier-pipeline</td>\n",
       "      <td>0.88</td>\n",
       "    </tr>\n",
       "    <tr>\n",
       "      <th>1</th>\n",
       "      <td>r-flower-classifier-pipeline</td>\n",
       "      <td>pipeline-custom-rf-classifier-20220126164246</td>\n",
       "      <td>us-central1</td>\n",
       "      <td>gs://laah-pipeline-aip-20220126144741</td>\n",
       "      <td>gs://laah-pipeline-aip-20220126144741/custom-r...</td>\n",
       "      <td>[{\"containerPort\": 7080}]</td>\n",
       "      <td>pipeline-custom-rf-classifier-20220126164246</td>\n",
       "      <td>/predictions/custom-rf-classifier</td>\n",
       "      <td>custom-rf-classifier</td>\n",
       "      <td>gs://laah-pipeline-aip-20220126144741/custom-r...</td>\n",
       "      <td>laah-pipeline</td>\n",
       "      <td>/ping</td>\n",
       "      <td>r-flower-classifier-pipeline</td>\n",
       "      <td>0.88</td>\n",
       "    </tr>\n",
       "    <tr>\n",
       "      <th>2</th>\n",
       "      <td>r-flower-classifier-pipeline</td>\n",
       "      <td>pipeline-custom-rf-classifier-20220126154159</td>\n",
       "      <td>us-central1</td>\n",
       "      <td>gs://laah-pipeline-aip-20220126144741</td>\n",
       "      <td>gs://laah-pipeline-aip-20220126144741/custom-r...</td>\n",
       "      <td>[{\"containerPort\": 7080}]</td>\n",
       "      <td>pipeline-custom-rf-classifier-20220126154159</td>\n",
       "      <td>/predictions/custom-rf-classifier</td>\n",
       "      <td>custom-rf-classifier</td>\n",
       "      <td>gs://laah-pipeline-aip-20220126144741/custom-r...</td>\n",
       "      <td>laah-pipeline</td>\n",
       "      <td>/ping</td>\n",
       "      <td>r-flower-classifier-pipeline</td>\n",
       "      <td>0.88</td>\n",
       "    </tr>\n",
       "    <tr>\n",
       "      <th>3</th>\n",
       "      <td>r-flower-classifier-pipeline</td>\n",
       "      <td>pipeline-custom-rf-classifier-20220126151414</td>\n",
       "      <td>us-central1</td>\n",
       "      <td>gs://laah-pipeline-aip-20220126144741</td>\n",
       "      <td>gs://laah-pipeline-aip-20220126144741/custom-r...</td>\n",
       "      <td>[{\"containerPort\": 7080}]</td>\n",
       "      <td>pipeline-custom-rf-classifier-20220126151414</td>\n",
       "      <td>/predictions/custom-rf-classifier</td>\n",
       "      <td>custom-rf-classifier</td>\n",
       "      <td>gs://laah-pipeline-aip-20220126144741/custom-r...</td>\n",
       "      <td>laah-pipeline</td>\n",
       "      <td>/ping</td>\n",
       "      <td>r-flower-classifier-pipeline</td>\n",
       "      <td>0.88</td>\n",
       "    </tr>\n",
       "    <tr>\n",
       "      <th>4</th>\n",
       "      <td>r-flower-classifier-pipeline</td>\n",
       "      <td>pipeline-custom-rf-classifier-20220125223607</td>\n",
       "      <td>us-central1</td>\n",
       "      <td>gs://laah-pipeline-aip-20220125173552</td>\n",
       "      <td>gs://laah-pipeline-aip-20220125173552/custom-r...</td>\n",
       "      <td>[{\"containerPort\": 7080}]</td>\n",
       "      <td>pipeline-custom-rf-classifier-20220125223607</td>\n",
       "      <td>/predictions/custom-rf-classifier</td>\n",
       "      <td>custom-rf-classifier</td>\n",
       "      <td>gs://laah-pipeline-aip-20220125173552/custom-r...</td>\n",
       "      <td>laah-pipeline</td>\n",
       "      <td>/ping</td>\n",
       "      <td>r-flower-classifier-pipeline</td>\n",
       "      <td>0.88</td>\n",
       "    </tr>\n",
       "    <tr>\n",
       "      <th>5</th>\n",
       "      <td>r-flower-classifier-pipeline</td>\n",
       "      <td>pipeline-custom-rf-classifier-20220125221626</td>\n",
       "      <td>us-central1</td>\n",
       "      <td>gs://laah-pipeline-aip-20220125173552</td>\n",
       "      <td>gs://laah-pipeline-aip-20220125173552/custom-r...</td>\n",
       "      <td>[{\"containerPort\": 7080}]</td>\n",
       "      <td>pipeline-custom-rf-classifier-20220125221626</td>\n",
       "      <td>/predictions/custom-rf-classifier</td>\n",
       "      <td>custom-rf-classifier</td>\n",
       "      <td>gs://laah-pipeline-aip-20220125173552/custom-r...</td>\n",
       "      <td>laah-pipeline</td>\n",
       "      <td>/ping</td>\n",
       "      <td>r-flower-classifier-pipeline</td>\n",
       "      <td>0.88</td>\n",
       "    </tr>\n",
       "    <tr>\n",
       "      <th>6</th>\n",
       "      <td>r-flower-classifier-pipeline</td>\n",
       "      <td>pipeline-custom-rf-classifier-20220125220543</td>\n",
       "      <td>us-central1</td>\n",
       "      <td>gs://laah-pipeline-aip-20220125173552</td>\n",
       "      <td>gs://laah-pipeline-aip-20220125173552/custom-r...</td>\n",
       "      <td>[{\"containerPort\": 7080}]</td>\n",
       "      <td>pipeline-custom-rf-classifier-20220125220543</td>\n",
       "      <td>/predictions/custom-rf-classifier</td>\n",
       "      <td>custom-rf-classifier</td>\n",
       "      <td>gs://laah-pipeline-aip-20220125173552/custom-r...</td>\n",
       "      <td>laah-pipeline</td>\n",
       "      <td>/ping</td>\n",
       "      <td>r-flower-classifier-pipeline</td>\n",
       "      <td>0.88</td>\n",
       "    </tr>\n",
       "    <tr>\n",
       "      <th>7</th>\n",
       "      <td>r-flower-classifier-pipeline</td>\n",
       "      <td>pipeline-custom-rf-classifier-20220125184833</td>\n",
       "      <td>us-central1</td>\n",
       "      <td>gs://laah-pipeline-aip-20220125173552</td>\n",
       "      <td>gs://laah-pipeline-aip-20220125173552/custom-r...</td>\n",
       "      <td>[{\"containerPort\": 7080}]</td>\n",
       "      <td>pipeline-custom-rf-classifier-20220125184833</td>\n",
       "      <td>/predictions/custom-rf-classifier</td>\n",
       "      <td>custom-rf-classifier</td>\n",
       "      <td>gs://laah-pipeline-aip-20220125173552/custom-r...</td>\n",
       "      <td>laah-pipeline</td>\n",
       "      <td>/ping</td>\n",
       "      <td>r-flower-classifier-pipeline</td>\n",
       "      <td>0.88</td>\n",
       "    </tr>\n",
       "    <tr>\n",
       "      <th>8</th>\n",
       "      <td>r-flower-classifier-pipeline</td>\n",
       "      <td>pipeline-custom-rf-classifier-20220125175224</td>\n",
       "      <td>us-central1</td>\n",
       "      <td>gs://laah-pipeline-aip-20220125173552</td>\n",
       "      <td>gs://laah-pipeline-aip-20220125173552/custom-r...</td>\n",
       "      <td>[{\"containerPort\": 7080}]</td>\n",
       "      <td>pipeline-custom-rf-classifier-20220125175224</td>\n",
       "      <td>/predictions/custom-rf-classifier</td>\n",
       "      <td>custom-rf-classifier</td>\n",
       "      <td>gs://laah-pipeline-aip-20220125173552/custom-r...</td>\n",
       "      <td>laah-pipeline</td>\n",
       "      <td>/ping</td>\n",
       "      <td>r-flower-classifier-pipeline</td>\n",
       "      <td>0.88</td>\n",
       "    </tr>\n",
       "    <tr>\n",
       "      <th>9</th>\n",
       "      <td>r-flower-classifier-pipeline</td>\n",
       "      <td>pipeline-custom-rf-classifier-20220124225513</td>\n",
       "      <td>us-central1</td>\n",
       "      <td>gs://laah-pipeline-aip-20220124194618</td>\n",
       "      <td>gs://laah-pipeline-aip-20220124194618/custom-r...</td>\n",
       "      <td>[{\"containerPort\": 7080}]</td>\n",
       "      <td>pipeline-custom-rf-classifier-20220124225513</td>\n",
       "      <td>/predictions/custom-rf-classifier</td>\n",
       "      <td>custom-rf-classifier</td>\n",
       "      <td>gs://laah-pipeline-aip-20220124194618/custom-r...</td>\n",
       "      <td>laah-pipeline</td>\n",
       "      <td>/ping</td>\n",
       "      <td>r-flower-classifier-pipeline</td>\n",
       "      <td>0.88</td>\n",
       "    </tr>\n",
       "    <tr>\n",
       "      <th>10</th>\n",
       "      <td>r-flower-classifier-pipeline</td>\n",
       "      <td>pipeline-custom-rf-classifier-20220124223015</td>\n",
       "      <td>us-central1</td>\n",
       "      <td>gs://laah-pipeline-aip-20220124194618</td>\n",
       "      <td>gs://laah-pipeline-aip-20220124194618/custom-r...</td>\n",
       "      <td>[{\"containerPort\": 7080}]</td>\n",
       "      <td>pipeline-custom-rf-classifier-20220124223015</td>\n",
       "      <td>/predictions/custom-rf-classifier</td>\n",
       "      <td>custom-rf-classifier</td>\n",
       "      <td>gs://laah-pipeline-aip-20220124194618/custom-r...</td>\n",
       "      <td>laah-pipeline</td>\n",
       "      <td>/ping</td>\n",
       "      <td>r-flower-classifier-pipeline</td>\n",
       "      <td>0.88</td>\n",
       "    </tr>\n",
       "    <tr>\n",
       "      <th>11</th>\n",
       "      <td>r-flower-classifier-pipeline</td>\n",
       "      <td>pipeline-custom-rf-classifier-20220124221527</td>\n",
       "      <td>us-central1</td>\n",
       "      <td>gs://laah-pipeline-aip-20220124194618</td>\n",
       "      <td>gs://laah-pipeline-aip-20220124194618/custom-r...</td>\n",
       "      <td>[{\"containerPort\": 7080}]</td>\n",
       "      <td>pipeline-custom-rf-classifier-20220124221527</td>\n",
       "      <td>/predictions/custom-rf-classifier</td>\n",
       "      <td>custom-rf-classifier</td>\n",
       "      <td>gs://laah-pipeline-aip-20220124194618/custom-r...</td>\n",
       "      <td>laah-pipeline</td>\n",
       "      <td>/ping</td>\n",
       "      <td>r-flower-classifier-pipeline</td>\n",
       "      <td>0.88</td>\n",
       "    </tr>\n",
       "    <tr>\n",
       "      <th>12</th>\n",
       "      <td>r-flower-classifier-pipeline</td>\n",
       "      <td>pipeline-custom-rf-classifier-20220124211022</td>\n",
       "      <td>us-central1</td>\n",
       "      <td>gs://laah-pipeline-aip-20220124194618</td>\n",
       "      <td>gs://laah-pipeline-aip-20220124194618/custom-r...</td>\n",
       "      <td>[{\"containerPort\": 7080}]</td>\n",
       "      <td>pipeline-custom-rf-classifier-20220124211022</td>\n",
       "      <td>/predictions/custom-rf-classifier</td>\n",
       "      <td>custom-rf-classifier</td>\n",
       "      <td>gs://laah-pipeline-aip-20220124194618/custom-r...</td>\n",
       "      <td>laah-pipeline</td>\n",
       "      <td>/ping</td>\n",
       "      <td>r-flower-classifier-pipeline</td>\n",
       "      <td>0.88</td>\n",
       "    </tr>\n",
       "  </tbody>\n",
       "</table>\n",
       "</div>"
      ],
      "text/plain": [
       "                   pipeline_name  \\\n",
       "0   r-flower-classifier-pipeline   \n",
       "1   r-flower-classifier-pipeline   \n",
       "2   r-flower-classifier-pipeline   \n",
       "3   r-flower-classifier-pipeline   \n",
       "4   r-flower-classifier-pipeline   \n",
       "5   r-flower-classifier-pipeline   \n",
       "6   r-flower-classifier-pipeline   \n",
       "7   r-flower-classifier-pipeline   \n",
       "8   r-flower-classifier-pipeline   \n",
       "9   r-flower-classifier-pipeline   \n",
       "10  r-flower-classifier-pipeline   \n",
       "11  r-flower-classifier-pipeline   \n",
       "12  r-flower-classifier-pipeline   \n",
       "\n",
       "                                        run_name param.input:region  \\\n",
       "0   pipeline-custom-rf-classifier-20220126164728        us-central1   \n",
       "1   pipeline-custom-rf-classifier-20220126164246        us-central1   \n",
       "2   pipeline-custom-rf-classifier-20220126154159        us-central1   \n",
       "3   pipeline-custom-rf-classifier-20220126151414        us-central1   \n",
       "4   pipeline-custom-rf-classifier-20220125223607        us-central1   \n",
       "5   pipeline-custom-rf-classifier-20220125221626        us-central1   \n",
       "6   pipeline-custom-rf-classifier-20220125220543        us-central1   \n",
       "7   pipeline-custom-rf-classifier-20220125184833        us-central1   \n",
       "8   pipeline-custom-rf-classifier-20220125175224        us-central1   \n",
       "9   pipeline-custom-rf-classifier-20220124225513        us-central1   \n",
       "10  pipeline-custom-rf-classifier-20220124223015        us-central1   \n",
       "11  pipeline-custom-rf-classifier-20220124221527        us-central1   \n",
       "12  pipeline-custom-rf-classifier-20220124211022        us-central1   \n",
       "\n",
       "                       param.input:bucket  \\\n",
       "0   gs://laah-pipeline-aip-20220126144741   \n",
       "1   gs://laah-pipeline-aip-20220126144741   \n",
       "2   gs://laah-pipeline-aip-20220126144741   \n",
       "3   gs://laah-pipeline-aip-20220126144741   \n",
       "4   gs://laah-pipeline-aip-20220125173552   \n",
       "5   gs://laah-pipeline-aip-20220125173552   \n",
       "6   gs://laah-pipeline-aip-20220125173552   \n",
       "7   gs://laah-pipeline-aip-20220125173552   \n",
       "8   gs://laah-pipeline-aip-20220125173552   \n",
       "9   gs://laah-pipeline-aip-20220124194618   \n",
       "10  gs://laah-pipeline-aip-20220124194618   \n",
       "11  gs://laah-pipeline-aip-20220124194618   \n",
       "12  gs://laah-pipeline-aip-20220124194618   \n",
       "\n",
       "             param.input:gs_serving_dependencies_path  \\\n",
       "0   gs://laah-pipeline-aip-20220126144741/custom-r...   \n",
       "1   gs://laah-pipeline-aip-20220126144741/custom-r...   \n",
       "2   gs://laah-pipeline-aip-20220126144741/custom-r...   \n",
       "3   gs://laah-pipeline-aip-20220126144741/custom-r...   \n",
       "4   gs://laah-pipeline-aip-20220125173552/custom-r...   \n",
       "5   gs://laah-pipeline-aip-20220125173552/custom-r...   \n",
       "6   gs://laah-pipeline-aip-20220125173552/custom-r...   \n",
       "7   gs://laah-pipeline-aip-20220125173552/custom-r...   \n",
       "8   gs://laah-pipeline-aip-20220125173552/custom-r...   \n",
       "9   gs://laah-pipeline-aip-20220124194618/custom-r...   \n",
       "10  gs://laah-pipeline-aip-20220124194618/custom-r...   \n",
       "11  gs://laah-pipeline-aip-20220124194618/custom-r...   \n",
       "12  gs://laah-pipeline-aip-20220124194618/custom-r...   \n",
       "\n",
       "   param.input:serving_container_ports  \\\n",
       "0            [{\"containerPort\": 7080}]   \n",
       "1            [{\"containerPort\": 7080}]   \n",
       "2            [{\"containerPort\": 7080}]   \n",
       "3            [{\"containerPort\": 7080}]   \n",
       "4            [{\"containerPort\": 7080}]   \n",
       "5            [{\"containerPort\": 7080}]   \n",
       "6            [{\"containerPort\": 7080}]   \n",
       "7            [{\"containerPort\": 7080}]   \n",
       "8            [{\"containerPort\": 7080}]   \n",
       "9            [{\"containerPort\": 7080}]   \n",
       "10           [{\"containerPort\": 7080}]   \n",
       "11           [{\"containerPort\": 7080}]   \n",
       "12           [{\"containerPort\": 7080}]   \n",
       "\n",
       "                     param.input:pipeline_job_id  \\\n",
       "0   pipeline-custom-rf-classifier-20220126164728   \n",
       "1   pipeline-custom-rf-classifier-20220126164246   \n",
       "2   pipeline-custom-rf-classifier-20220126154159   \n",
       "3   pipeline-custom-rf-classifier-20220126151414   \n",
       "4   pipeline-custom-rf-classifier-20220125223607   \n",
       "5   pipeline-custom-rf-classifier-20220125221626   \n",
       "6   pipeline-custom-rf-classifier-20220125220543   \n",
       "7   pipeline-custom-rf-classifier-20220125184833   \n",
       "8   pipeline-custom-rf-classifier-20220125175224   \n",
       "9   pipeline-custom-rf-classifier-20220124225513   \n",
       "10  pipeline-custom-rf-classifier-20220124223015   \n",
       "11  pipeline-custom-rf-classifier-20220124221527   \n",
       "12  pipeline-custom-rf-classifier-20220124211022   \n",
       "\n",
       "   param.input:serving_container_predict_route param.input:model_display_name  \\\n",
       "0            /predictions/custom-rf-classifier           custom-rf-classifier   \n",
       "1            /predictions/custom-rf-classifier           custom-rf-classifier   \n",
       "2            /predictions/custom-rf-classifier           custom-rf-classifier   \n",
       "3            /predictions/custom-rf-classifier           custom-rf-classifier   \n",
       "4            /predictions/custom-rf-classifier           custom-rf-classifier   \n",
       "5            /predictions/custom-rf-classifier           custom-rf-classifier   \n",
       "6            /predictions/custom-rf-classifier           custom-rf-classifier   \n",
       "7            /predictions/custom-rf-classifier           custom-rf-classifier   \n",
       "8            /predictions/custom-rf-classifier           custom-rf-classifier   \n",
       "9            /predictions/custom-rf-classifier           custom-rf-classifier   \n",
       "10           /predictions/custom-rf-classifier           custom-rf-classifier   \n",
       "11           /predictions/custom-rf-classifier           custom-rf-classifier   \n",
       "12           /predictions/custom-rf-classifier           custom-rf-classifier   \n",
       "\n",
       "                     param.input:gs_train_script_path param.input:project  \\\n",
       "0   gs://laah-pipeline-aip-20220126144741/custom-r...       laah-pipeline   \n",
       "1   gs://laah-pipeline-aip-20220126144741/custom-r...       laah-pipeline   \n",
       "2   gs://laah-pipeline-aip-20220126144741/custom-r...       laah-pipeline   \n",
       "3   gs://laah-pipeline-aip-20220126144741/custom-r...       laah-pipeline   \n",
       "4   gs://laah-pipeline-aip-20220125173552/custom-r...       laah-pipeline   \n",
       "5   gs://laah-pipeline-aip-20220125173552/custom-r...       laah-pipeline   \n",
       "6   gs://laah-pipeline-aip-20220125173552/custom-r...       laah-pipeline   \n",
       "7   gs://laah-pipeline-aip-20220125173552/custom-r...       laah-pipeline   \n",
       "8   gs://laah-pipeline-aip-20220125173552/custom-r...       laah-pipeline   \n",
       "9   gs://laah-pipeline-aip-20220124194618/custom-r...       laah-pipeline   \n",
       "10  gs://laah-pipeline-aip-20220124194618/custom-r...       laah-pipeline   \n",
       "11  gs://laah-pipeline-aip-20220124194618/custom-r...       laah-pipeline   \n",
       "12  gs://laah-pipeline-aip-20220124194618/custom-r...       laah-pipeline   \n",
       "\n",
       "   param.input:serving_container_health_route     param.input:pipeline_name  \\\n",
       "0                                       /ping  r-flower-classifier-pipeline   \n",
       "1                                       /ping  r-flower-classifier-pipeline   \n",
       "2                                       /ping  r-flower-classifier-pipeline   \n",
       "3                                       /ping  r-flower-classifier-pipeline   \n",
       "4                                       /ping  r-flower-classifier-pipeline   \n",
       "5                                       /ping  r-flower-classifier-pipeline   \n",
       "6                                       /ping  r-flower-classifier-pipeline   \n",
       "7                                       /ping  r-flower-classifier-pipeline   \n",
       "8                                       /ping  r-flower-classifier-pipeline   \n",
       "9                                       /ping  r-flower-classifier-pipeline   \n",
       "10                                      /ping  r-flower-classifier-pipeline   \n",
       "11                                      /ping  r-flower-classifier-pipeline   \n",
       "12                                      /ping  r-flower-classifier-pipeline   \n",
       "\n",
       "    param.input:eval_acc_threshold  \n",
       "0                             0.88  \n",
       "1                             0.88  \n",
       "2                             0.88  \n",
       "3                             0.88  \n",
       "4                             0.88  \n",
       "5                             0.88  \n",
       "6                             0.88  \n",
       "7                             0.88  \n",
       "8                             0.88  \n",
       "9                             0.88  \n",
       "10                            0.88  \n",
       "11                            0.88  \n",
       "12                            0.88  "
      ]
     },
     "execution_count": 48,
     "metadata": {},
     "output_type": "execute_result"
    }
   ],
   "source": [
    "df = aiplatform.get_pipeline_df(pipeline=PIPELINE_NAME.replace(\"_\", \"-\"))\n",
    "df"
   ]
  },
  {
   "cell_type": "code",
   "execution_count": null,
   "metadata": {},
   "outputs": [],
   "source": []
  }
 ],
 "metadata": {
  "colab": {
   "collapsed_sections": [],
   "name": "e2e_pipeline_pytorch_cifar.ipynb",
   "provenance": []
  },
  "environment": {
   "kernel": "python3",
   "name": "r-cpu.4-1.m87",
   "type": "gcloud",
   "uri": "gcr.io/deeplearning-platform-release/r-cpu.4-1:m87"
  },
  "interpreter": {
   "hash": "d4d1e4263499bec80672ea0156c357c1ee493ec2b1c70f0acce89fc37c4a6abe"
  },
  "kernelspec": {
   "display_name": "Python 3",
   "language": "python",
   "name": "python3"
  },
  "language_info": {
   "codemirror_mode": {
    "name": "ipython",
    "version": 3
   },
   "file_extension": ".py",
   "mimetype": "text/x-python",
   "name": "python",
   "nbconvert_exporter": "python",
   "pygments_lexer": "ipython3",
   "version": "3.7.12"
  },
  "toc-autonumbering": false
 },
 "nbformat": 4,
 "nbformat_minor": 4
}
